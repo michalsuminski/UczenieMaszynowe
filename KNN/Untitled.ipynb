{
 "cells": [
  {
   "cell_type": "code",
   "execution_count": 3,
   "id": "36a4bf2c",
   "metadata": {},
   "outputs": [
    {
     "name": "stdout",
     "output_type": "stream",
     "text": [
      "<class 'dict'>\n"
     ]
    }
   ],
   "source": [
    "import json\n",
    "\n",
    "# Open the file and load the JSON data\n",
    "with open('json/map.json', 'r', encoding='utf-8') as file:\n",
    "    DETAILS = json.load(file)\n",
    "\n",
    "# Now 'data' contains the content of your JSON file\n",
    "print(type(details))"
   ]
  },
  {
   "cell_type": "code",
   "execution_count": 12,
   "id": "6862b879",
   "metadata": {},
   "outputs": [],
   "source": [
    "set_of_actors = set()\n",
    "for elem in details:\n",
    "    for detail in details[elem][\"credits\"][\"cast\"]:\n",
    "        set_of_actors.add(detail[\"name\"])"
   ]
  },
  {
   "cell_type": "code",
   "execution_count": 13,
   "id": "b6b36095",
   "metadata": {},
   "outputs": [
    {
     "data": {
      "text/plain": [
       "1664"
      ]
     },
     "execution_count": 13,
     "metadata": {},
     "output_type": "execute_result"
    }
   ],
   "source": [
    "len(set_of_actors)"
   ]
  },
  {
   "cell_type": "code",
   "execution_count": null,
   "id": "630dcf04",
   "metadata": {},
   "outputs": [],
   "source": [
    "import json\n",
    "\n",
    "# Create a list of dictionaries with \"index\" and \"name\" keys - to samo co z genres\n",
    "json_list = [{'index': index, 'name': name} for index, name in enumerate(set_of_actors)]\n",
    "\n",
    "# Convert the list to a JSON-formatted string\n",
    "json_data = json.dumps(json_list, indent=2)\n",
    "\n",
    "# Save the JSON data to a file\n",
    "with open('actors.json', 'w') as file:\n",
    "    json.dump(json_list, file, indent=2)"
   ]
  },
  {
   "cell_type": "code",
   "execution_count": 17,
   "id": "1bc04871",
   "metadata": {},
   "outputs": [],
   "source": [
    "set_of_directors = set()\n",
    "for elem in details:\n",
    "    for detail in details[elem][\"credits\"][\"crew\"]:\n",
    "        if detail[\"job\"] == \"Director\":\n",
    "            set_of_directors.add(detail[\"name\"])"
   ]
  },
  {
   "cell_type": "code",
   "execution_count": 18,
   "id": "2b3136b2",
   "metadata": {},
   "outputs": [
    {
     "data": {
      "text/plain": [
       "61"
      ]
     },
     "execution_count": 18,
     "metadata": {},
     "output_type": "execute_result"
    }
   ],
   "source": [
    "len(set_of_directors)"
   ]
  },
  {
   "cell_type": "code",
   "execution_count": 20,
   "id": "011b8e99",
   "metadata": {},
   "outputs": [],
   "source": [
    "# Create a list of dictionaries with \"index\" and \"name\" keys - to samo co z genres\n",
    "json_list = [{'index': index, 'name': name} for index, name in enumerate(set_of_directors)]\n",
    "\n",
    "# Convert the list to a JSON-formatted string\n",
    "json_data = json.dumps(json_list, indent=2)\n",
    "\n",
    "# Save the JSON data to a file\n",
    "with open('directors.json', 'w') as file:\n",
    "    json.dump(json_list, file, indent=2)"
   ]
  },
  {
   "cell_type": "code",
   "execution_count": 6,
   "id": "697184ae",
   "metadata": {},
   "outputs": [],
   "source": [
    "set_of_production_companies = set()\n",
    "for elem in details:\n",
    "    for detail in details[elem][\"production_companies\"]:\n",
    "        set_of_production_companies.add(detail[\"name\"])"
   ]
  },
  {
   "cell_type": "code",
   "execution_count": 7,
   "id": "904f9b22",
   "metadata": {},
   "outputs": [
    {
     "data": {
      "text/plain": [
       "353"
      ]
     },
     "execution_count": 7,
     "metadata": {},
     "output_type": "execute_result"
    }
   ],
   "source": [
    "len(set_of_production_companies)"
   ]
  },
  {
   "cell_type": "code",
   "execution_count": 8,
   "id": "1e3fe386",
   "metadata": {},
   "outputs": [],
   "source": [
    "# Create a list of dictionaries with \"index\" and \"name\" keys - to samo co z genres\n",
    "json_list = [{'index': index, 'name': name} for index, name in enumerate(set_of_production_companies)]\n",
    "\n",
    "# Convert the list to a JSON-formatted string\n",
    "json_data = json.dumps(json_list, indent=2)\n",
    "\n",
    "# Save the JSON data to a file\n",
    "with open('production_companies.json', 'w') as file:\n",
    "    json.dump(json_list, file, indent=2)"
   ]
  },
  {
   "cell_type": "code",
   "execution_count": 9,
   "id": "72922ac6",
   "metadata": {},
   "outputs": [],
   "source": [
    "set_of_production_countries = set()\n",
    "for elem in details:\n",
    "    for detail in details[elem][\"production_countries\"]:\n",
    "        set_of_production_countries.add(detail[\"name\"])"
   ]
  },
  {
   "cell_type": "code",
   "execution_count": 11,
   "id": "262cc071",
   "metadata": {},
   "outputs": [
    {
     "data": {
      "text/plain": [
       "23"
      ]
     },
     "execution_count": 11,
     "metadata": {},
     "output_type": "execute_result"
    }
   ],
   "source": [
    "len(set_of_production_countries)"
   ]
  },
  {
   "cell_type": "code",
   "execution_count": 12,
   "id": "c835c256",
   "metadata": {},
   "outputs": [],
   "source": [
    "# Create a list of dictionaries with \"index\" and \"name\" keys - to samo co z genres\n",
    "json_list = [{'index': index, 'name': name} for index, name in enumerate(set_of_production_countries)]\n",
    "\n",
    "# Convert the list to a JSON-formatted string\n",
    "json_data = json.dumps(json_list, indent=2)\n",
    "\n",
    "# Save the JSON data to a file\n",
    "with open('production_countries.json', 'w') as file:\n",
    "    json.dump(json_list, file, indent=2)"
   ]
  },
  {
   "cell_type": "code",
   "execution_count": 1,
   "id": "dd7c73b5",
   "metadata": {},
   "outputs": [],
   "source": [
    "from fileToolbox import *"
   ]
  },
  {
   "cell_type": "code",
   "execution_count": null,
   "id": "ee9c1255",
   "metadata": {},
   "outputs": [],
   "source": [
    "DETAILS[\"12\"]"
   ]
  },
  {
   "cell_type": "code",
   "execution_count": 30,
   "id": "88f7588d",
   "metadata": {},
   "outputs": [],
   "source": [
    "# przyjmuje movie_id, szuka jego tmdb_id, ściąga detailsy i tworzy na ich podstawie wektor cech\n",
    "def createFeatureVectorForMovie(movie_id):\n",
    "    details_id = findMovieTmdb_id(movie_id)\n",
    "    print(details_id)\n",
    "    details = DETAILS[str(details_id)]\n",
    "    # wektor cech\n",
    "    feature_vector = []\n",
    "    if details[\"adult\"] == False:\n",
    "        feature_vector.append(0)\n",
    "    else:\n",
    "        feature_vector.append(1)\n",
    "    feature_vector.append(details[\"budget\"])\n",
    "    feature_vector.extend(actorsFeatureVectorCreator(details)) # 1664\n",
    "    feature_vector.extend(directorsFeatureVectorCreator(details)) # 61\n",
    "    feature_vector.extend(genresFeatureVectorCreator(details)) # 19\n",
    "    feature_vector.append(details[\"popularity\"])\n",
    "    feature_vector.extend(productionCompaniesFeatureVectorCreator(details)) # 353\n",
    "    feature_vector.extend(productionCountriesFeatureVectorCreator(details)) # 23\n",
    "#     feature_vector.append(details[\"release_date\"])\n",
    "    feature_vector.append(details[\"revenue\"])\n",
    "    feature_vector.append(details[\"runtime\"])\n",
    "    if details[\"status\"] == 'Release':\n",
    "        feature_vector.append(1)\n",
    "    else:\n",
    "        feature_vector.append(0)\n",
    "    feature_vector.append(details[\"vote_average\"])\n",
    "    feature_vector.append(details[\"vote_count\"])\n",
    "    \n",
    "    return feature_vector"
   ]
  },
  {
   "cell_type": "code",
   "execution_count": 31,
   "id": "174965af",
   "metadata": {},
   "outputs": [
    {
     "name": "stdout",
     "output_type": "stream",
     "text": [
      "235\n"
     ]
    },
    {
     "data": {
      "text/plain": [
       "2128"
      ]
     },
     "execution_count": 31,
     "metadata": {},
     "output_type": "execute_result"
    }
   ],
   "source": [
    "len(createFeatureVectorForMovie(136))"
   ]
  },
  {
   "cell_type": "code",
   "execution_count": 34,
   "id": "918342c9",
   "metadata": {},
   "outputs": [
    {
     "data": {
      "text/plain": [
       "int"
      ]
     },
     "execution_count": 34,
     "metadata": {},
     "output_type": "execute_result"
    }
   ],
   "source": [
    "type(DETAILS[\"12\"][\"runtime\"])"
   ]
  },
  {
   "cell_type": "code",
   "execution_count": 35,
   "id": "280be31b",
   "metadata": {},
   "outputs": [
    {
     "name": "stdout",
     "output_type": "stream",
     "text": [
      "235\n"
     ]
    },
    {
     "ename": "ValueError",
     "evalue": "Expected 2D array, got 1D array instead:\narray=[0.000e+00 8.000e+06 0.000e+00 ... 0.000e+00 7.852e+00 5.374e+03].\nReshape your data either using array.reshape(-1, 1) if your data has a single feature or array.reshape(1, -1) if it contains a single sample.",
     "output_type": "error",
     "traceback": [
      "\u001b[1;31m---------------------------------------------------------------------------\u001b[0m",
      "\u001b[1;31mValueError\u001b[0m                                Traceback (most recent call last)",
      "\u001b[1;32m<ipython-input-35-a031393cd058>\u001b[0m in \u001b[0;36m<module>\u001b[1;34m\u001b[0m\n\u001b[0;32m      1\u001b[0m \u001b[1;32mfrom\u001b[0m \u001b[0msklearn\u001b[0m\u001b[1;33m.\u001b[0m\u001b[0mpreprocessing\u001b[0m \u001b[1;32mimport\u001b[0m \u001b[0mMinMaxScaler\u001b[0m\u001b[1;33m\u001b[0m\u001b[1;33m\u001b[0m\u001b[0m\n\u001b[0;32m      2\u001b[0m \u001b[0mscaler\u001b[0m \u001b[1;33m=\u001b[0m \u001b[0mMinMaxScaler\u001b[0m\u001b[1;33m(\u001b[0m\u001b[1;33m)\u001b[0m\u001b[1;33m\u001b[0m\u001b[1;33m\u001b[0m\u001b[0m\n\u001b[1;32m----> 3\u001b[1;33m \u001b[0mresult\u001b[0m \u001b[1;33m=\u001b[0m \u001b[0mscaler\u001b[0m\u001b[1;33m.\u001b[0m\u001b[0mfit_transform\u001b[0m\u001b[1;33m(\u001b[0m\u001b[0mcreateFeatureVectorForMovie\u001b[0m\u001b[1;33m(\u001b[0m\u001b[1;36m136\u001b[0m\u001b[1;33m)\u001b[0m\u001b[1;33m)\u001b[0m\u001b[1;33m\u001b[0m\u001b[1;33m\u001b[0m\u001b[0m\n\u001b[0m",
      "\u001b[1;32m~\\anaconda3\\lib\\site-packages\\sklearn\\base.py\u001b[0m in \u001b[0;36mfit_transform\u001b[1;34m(self, X, y, **fit_params)\u001b[0m\n\u001b[0;32m    865\u001b[0m         \u001b[1;32mif\u001b[0m \u001b[0my\u001b[0m \u001b[1;32mis\u001b[0m \u001b[1;32mNone\u001b[0m\u001b[1;33m:\u001b[0m\u001b[1;33m\u001b[0m\u001b[1;33m\u001b[0m\u001b[0m\n\u001b[0;32m    866\u001b[0m             \u001b[1;31m# fit method of arity 1 (unsupervised transformation)\u001b[0m\u001b[1;33m\u001b[0m\u001b[1;33m\u001b[0m\u001b[1;33m\u001b[0m\u001b[0m\n\u001b[1;32m--> 867\u001b[1;33m             \u001b[1;32mreturn\u001b[0m \u001b[0mself\u001b[0m\u001b[1;33m.\u001b[0m\u001b[0mfit\u001b[0m\u001b[1;33m(\u001b[0m\u001b[0mX\u001b[0m\u001b[1;33m,\u001b[0m \u001b[1;33m**\u001b[0m\u001b[0mfit_params\u001b[0m\u001b[1;33m)\u001b[0m\u001b[1;33m.\u001b[0m\u001b[0mtransform\u001b[0m\u001b[1;33m(\u001b[0m\u001b[0mX\u001b[0m\u001b[1;33m)\u001b[0m\u001b[1;33m\u001b[0m\u001b[1;33m\u001b[0m\u001b[0m\n\u001b[0m\u001b[0;32m    868\u001b[0m         \u001b[1;32melse\u001b[0m\u001b[1;33m:\u001b[0m\u001b[1;33m\u001b[0m\u001b[1;33m\u001b[0m\u001b[0m\n\u001b[0;32m    869\u001b[0m             \u001b[1;31m# fit method of arity 2 (supervised transformation)\u001b[0m\u001b[1;33m\u001b[0m\u001b[1;33m\u001b[0m\u001b[1;33m\u001b[0m\u001b[0m\n",
      "\u001b[1;32m~\\anaconda3\\lib\\site-packages\\sklearn\\preprocessing\\_data.py\u001b[0m in \u001b[0;36mfit\u001b[1;34m(self, X, y)\u001b[0m\n\u001b[0;32m    418\u001b[0m         \u001b[1;31m# Reset internal state before fitting\u001b[0m\u001b[1;33m\u001b[0m\u001b[1;33m\u001b[0m\u001b[1;33m\u001b[0m\u001b[0m\n\u001b[0;32m    419\u001b[0m         \u001b[0mself\u001b[0m\u001b[1;33m.\u001b[0m\u001b[0m_reset\u001b[0m\u001b[1;33m(\u001b[0m\u001b[1;33m)\u001b[0m\u001b[1;33m\u001b[0m\u001b[1;33m\u001b[0m\u001b[0m\n\u001b[1;32m--> 420\u001b[1;33m         \u001b[1;32mreturn\u001b[0m \u001b[0mself\u001b[0m\u001b[1;33m.\u001b[0m\u001b[0mpartial_fit\u001b[0m\u001b[1;33m(\u001b[0m\u001b[0mX\u001b[0m\u001b[1;33m,\u001b[0m \u001b[0my\u001b[0m\u001b[1;33m)\u001b[0m\u001b[1;33m\u001b[0m\u001b[1;33m\u001b[0m\u001b[0m\n\u001b[0m\u001b[0;32m    421\u001b[0m \u001b[1;33m\u001b[0m\u001b[0m\n\u001b[0;32m    422\u001b[0m     \u001b[1;32mdef\u001b[0m \u001b[0mpartial_fit\u001b[0m\u001b[1;33m(\u001b[0m\u001b[0mself\u001b[0m\u001b[1;33m,\u001b[0m \u001b[0mX\u001b[0m\u001b[1;33m,\u001b[0m \u001b[0my\u001b[0m\u001b[1;33m=\u001b[0m\u001b[1;32mNone\u001b[0m\u001b[1;33m)\u001b[0m\u001b[1;33m:\u001b[0m\u001b[1;33m\u001b[0m\u001b[1;33m\u001b[0m\u001b[0m\n",
      "\u001b[1;32m~\\anaconda3\\lib\\site-packages\\sklearn\\preprocessing\\_data.py\u001b[0m in \u001b[0;36mpartial_fit\u001b[1;34m(self, X, y)\u001b[0m\n\u001b[0;32m    455\u001b[0m \u001b[1;33m\u001b[0m\u001b[0m\n\u001b[0;32m    456\u001b[0m         \u001b[0mfirst_pass\u001b[0m \u001b[1;33m=\u001b[0m \u001b[1;32mnot\u001b[0m \u001b[0mhasattr\u001b[0m\u001b[1;33m(\u001b[0m\u001b[0mself\u001b[0m\u001b[1;33m,\u001b[0m \u001b[1;34m\"n_samples_seen_\"\u001b[0m\u001b[1;33m)\u001b[0m\u001b[1;33m\u001b[0m\u001b[1;33m\u001b[0m\u001b[0m\n\u001b[1;32m--> 457\u001b[1;33m         X = self._validate_data(\n\u001b[0m\u001b[0;32m    458\u001b[0m             \u001b[0mX\u001b[0m\u001b[1;33m,\u001b[0m\u001b[1;33m\u001b[0m\u001b[1;33m\u001b[0m\u001b[0m\n\u001b[0;32m    459\u001b[0m             \u001b[0mreset\u001b[0m\u001b[1;33m=\u001b[0m\u001b[0mfirst_pass\u001b[0m\u001b[1;33m,\u001b[0m\u001b[1;33m\u001b[0m\u001b[1;33m\u001b[0m\u001b[0m\n",
      "\u001b[1;32m~\\anaconda3\\lib\\site-packages\\sklearn\\base.py\u001b[0m in \u001b[0;36m_validate_data\u001b[1;34m(self, X, y, reset, validate_separately, **check_params)\u001b[0m\n\u001b[0;32m    575\u001b[0m             \u001b[1;32mraise\u001b[0m \u001b[0mValueError\u001b[0m\u001b[1;33m(\u001b[0m\u001b[1;34m\"Validation should be done on X, y or both.\"\u001b[0m\u001b[1;33m)\u001b[0m\u001b[1;33m\u001b[0m\u001b[1;33m\u001b[0m\u001b[0m\n\u001b[0;32m    576\u001b[0m         \u001b[1;32melif\u001b[0m \u001b[1;32mnot\u001b[0m \u001b[0mno_val_X\u001b[0m \u001b[1;32mand\u001b[0m \u001b[0mno_val_y\u001b[0m\u001b[1;33m:\u001b[0m\u001b[1;33m\u001b[0m\u001b[1;33m\u001b[0m\u001b[0m\n\u001b[1;32m--> 577\u001b[1;33m             \u001b[0mX\u001b[0m \u001b[1;33m=\u001b[0m \u001b[0mcheck_array\u001b[0m\u001b[1;33m(\u001b[0m\u001b[0mX\u001b[0m\u001b[1;33m,\u001b[0m \u001b[0minput_name\u001b[0m\u001b[1;33m=\u001b[0m\u001b[1;34m\"X\"\u001b[0m\u001b[1;33m,\u001b[0m \u001b[1;33m**\u001b[0m\u001b[0mcheck_params\u001b[0m\u001b[1;33m)\u001b[0m\u001b[1;33m\u001b[0m\u001b[1;33m\u001b[0m\u001b[0m\n\u001b[0m\u001b[0;32m    578\u001b[0m             \u001b[0mout\u001b[0m \u001b[1;33m=\u001b[0m \u001b[0mX\u001b[0m\u001b[1;33m\u001b[0m\u001b[1;33m\u001b[0m\u001b[0m\n\u001b[0;32m    579\u001b[0m         \u001b[1;32melif\u001b[0m \u001b[0mno_val_X\u001b[0m \u001b[1;32mand\u001b[0m \u001b[1;32mnot\u001b[0m \u001b[0mno_val_y\u001b[0m\u001b[1;33m:\u001b[0m\u001b[1;33m\u001b[0m\u001b[1;33m\u001b[0m\u001b[0m\n",
      "\u001b[1;32m~\\anaconda3\\lib\\site-packages\\sklearn\\utils\\validation.py\u001b[0m in \u001b[0;36mcheck_array\u001b[1;34m(array, accept_sparse, accept_large_sparse, dtype, order, copy, force_all_finite, ensure_2d, allow_nd, ensure_min_samples, ensure_min_features, estimator, input_name)\u001b[0m\n\u001b[0;32m    877\u001b[0m             \u001b[1;31m# If input is 1D raise error\u001b[0m\u001b[1;33m\u001b[0m\u001b[1;33m\u001b[0m\u001b[1;33m\u001b[0m\u001b[0m\n\u001b[0;32m    878\u001b[0m             \u001b[1;32mif\u001b[0m \u001b[0marray\u001b[0m\u001b[1;33m.\u001b[0m\u001b[0mndim\u001b[0m \u001b[1;33m==\u001b[0m \u001b[1;36m1\u001b[0m\u001b[1;33m:\u001b[0m\u001b[1;33m\u001b[0m\u001b[1;33m\u001b[0m\u001b[0m\n\u001b[1;32m--> 879\u001b[1;33m                 raise ValueError(\n\u001b[0m\u001b[0;32m    880\u001b[0m                     \u001b[1;34m\"Expected 2D array, got 1D array instead:\\narray={}.\\n\"\u001b[0m\u001b[1;33m\u001b[0m\u001b[1;33m\u001b[0m\u001b[0m\n\u001b[0;32m    881\u001b[0m                     \u001b[1;34m\"Reshape your data either using array.reshape(-1, 1) if \"\u001b[0m\u001b[1;33m\u001b[0m\u001b[1;33m\u001b[0m\u001b[0m\n",
      "\u001b[1;31mValueError\u001b[0m: Expected 2D array, got 1D array instead:\narray=[0.000e+00 8.000e+06 0.000e+00 ... 0.000e+00 7.852e+00 5.374e+03].\nReshape your data either using array.reshape(-1, 1) if your data has a single feature or array.reshape(1, -1) if it contains a single sample."
     ]
    }
   ],
   "source": [
    "from sklearn.preprocessing import MinMaxScaler\n",
    "scaler = MinMaxScaler()\n",
    "result = scaler.fit_transform(createFeatureVectorForMovie(136))"
   ]
  },
  {
   "cell_type": "code",
   "execution_count": null,
   "id": "34226626",
   "metadata": {},
   "outputs": [],
   "source": []
  }
 ],
 "metadata": {
  "kernelspec": {
   "display_name": "Python 3",
   "language": "python",
   "name": "python3"
  },
  "language_info": {
   "codemirror_mode": {
    "name": "ipython",
    "version": 3
   },
   "file_extension": ".py",
   "mimetype": "text/x-python",
   "name": "python",
   "nbconvert_exporter": "python",
   "pygments_lexer": "ipython3",
   "version": "3.8.8"
  }
 },
 "nbformat": 4,
 "nbformat_minor": 5
}
