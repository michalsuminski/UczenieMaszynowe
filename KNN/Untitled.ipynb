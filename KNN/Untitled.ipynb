{
 "cells": [
  {
   "cell_type": "code",
   "execution_count": 1,
   "id": "a593c3f1",
   "metadata": {},
   "outputs": [
    {
     "name": "stdout",
     "output_type": "stream",
     "text": [
      "<class 'dict'>\n"
     ]
    }
   ],
   "source": [
    "import json\n",
    "\n",
    "# Open the file and load the JSON data\n",
    "with open('movies/map.json', 'r', encoding='utf-8') as file:\n",
    "    details = json.load(file)\n",
    "\n",
    "# Now 'data' contains the content of your JSON file\n",
    "print(type(details))"
   ]
  },
  {
   "cell_type": "code",
   "execution_count": 12,
   "id": "9b66595c",
   "metadata": {},
   "outputs": [],
   "source": [
    "set_of_actors = set()\n",
    "for elem in details:\n",
    "    for detail in details[elem][\"credits\"][\"cast\"]:\n",
    "        set_of_actors.add(detail[\"name\"])"
   ]
  },
  {
   "cell_type": "code",
   "execution_count": 13,
   "id": "53a07a71",
   "metadata": {},
   "outputs": [
    {
     "data": {
      "text/plain": [
       "1664"
      ]
     },
     "execution_count": 13,
     "metadata": {},
     "output_type": "execute_result"
    }
   ],
   "source": [
    "len(set_of_actors)"
   ]
  },
  {
   "cell_type": "code",
   "execution_count": null,
   "id": "e752440a",
   "metadata": {},
   "outputs": [],
   "source": [
    "import json\n",
    "\n",
    "# Create a list of dictionaries with \"index\" and \"name\" keys - to samo co z genres\n",
    "json_list = [{'index': index, 'name': name} for index, name in enumerate(set_of_actors)]\n",
    "\n",
    "# Convert the list to a JSON-formatted string\n",
    "json_data = json.dumps(json_list, indent=2)\n",
    "\n",
    "# Save the JSON data to a file\n",
    "with open('actors.json', 'w') as file:\n",
    "    json.dump(json_list, file, indent=2)"
   ]
  },
  {
   "cell_type": "code",
   "execution_count": 17,
   "id": "e9b09306",
   "metadata": {},
   "outputs": [],
   "source": [
    "set_of_directors = set()\n",
    "for elem in details:\n",
    "    for detail in details[elem][\"credits\"][\"crew\"]:\n",
    "        if detail[\"job\"] == \"Director\":\n",
    "            set_of_directors.add(detail[\"name\"])"
   ]
  },
  {
   "cell_type": "code",
   "execution_count": 18,
   "id": "48f1ba45",
   "metadata": {},
   "outputs": [
    {
     "data": {
      "text/plain": [
       "61"
      ]
     },
     "execution_count": 18,
     "metadata": {},
     "output_type": "execute_result"
    }
   ],
   "source": [
    "len(set_of_directors)"
   ]
  },
  {
   "cell_type": "code",
   "execution_count": 20,
   "id": "9fc2b47e",
   "metadata": {},
   "outputs": [],
   "source": [
    "# Create a list of dictionaries with \"index\" and \"name\" keys - to samo co z genres\n",
    "json_list = [{'index': index, 'name': name} for index, name in enumerate(set_of_directors)]\n",
    "\n",
    "# Convert the list to a JSON-formatted string\n",
    "json_data = json.dumps(json_list, indent=2)\n",
    "\n",
    "# Save the JSON data to a file\n",
    "with open('directors.json', 'w') as file:\n",
    "    json.dump(json_list, file, indent=2)"
   ]
  },
  {
   "cell_type": "code",
   "execution_count": null,
   "id": "924dfecb",
   "metadata": {},
   "outputs": [],
   "source": []
  }
 ],
 "metadata": {
  "kernelspec": {
   "display_name": "Python 3",
   "language": "python",
   "name": "python3"
  },
  "language_info": {
   "codemirror_mode": {
    "name": "ipython",
    "version": 3
   },
   "file_extension": ".py",
   "mimetype": "text/x-python",
   "name": "python",
   "nbconvert_exporter": "python",
   "pygments_lexer": "ipython3",
   "version": "3.8.8"
  }
 },
 "nbformat": 4,
 "nbformat_minor": 5
}
