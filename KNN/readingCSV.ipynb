{
 "cells": [
  {
   "cell_type": "code",
   "execution_count": 13,
   "id": "c59f294a",
   "metadata": {},
   "outputs": [
    {
     "name": "stdout",
     "output_type": "stream",
     "text": [
      "      id  tmdb_id                  title\n",
      "0      1      389           12 Angry Men\n",
      "1      2       62  2001: A Space Odyssey\n",
      "2      3    20453               3 Idiots\n",
      "3      4      453       A Beautiful Mind\n",
      "4      5      185     A Clockwork Orange\n",
      "..   ...      ...                    ...\n",
      "195  196     8392       Tonari no Totoro\n",
      "196  197     1480          Touch of Evil\n",
      "197  198      862              Toy Story\n",
      "198  199      627          Trainspotting\n",
      "199  200      110  Trois couleurs: Rouge\n",
      "\n",
      "[200 rows x 3 columns]\n"
     ]
    }
   ],
   "source": [
    "import pandas as pd\n",
    "\n",
    "# Read the CSV file into a DataFrame\n",
    "movie_df = pd.read_csv('movie/movie.csv', delimiter=\";\")\n",
    "\n",
    "# Display the DataFrame\n",
    "print(movie_df)"
   ]
  },
  {
   "cell_type": "code",
   "execution_count": 9,
   "id": "aa3757a8",
   "metadata": {},
   "outputs": [],
   "source": [
    "class MovieFromCsv:\n",
    "    def __init__(self, id, tmdb_id, title):\n",
    "        self.id = id # to id jest odpowiednikiem movie_id w train.csv\n",
    "        self.tmdb_id = tmdb_id # to jest id filmu w detailsach\n",
    "        self.title = title # prawdopodbnie nie będzie potrzebny bo tytuł mam też z detailsów"
   ]
  },
  {
   "cell_type": "code",
   "execution_count": 63,
   "id": "ea1b9391",
   "metadata": {},
   "outputs": [
    {
     "name": "stdout",
     "output_type": "stream",
     "text": [
      "<class 'dict'>\n"
     ]
    }
   ],
   "source": [
    "import json\n",
    "\n",
    "# Open the file and load the JSON data\n",
    "with open('movies/map.json', 'r', encoding='utf-8') as file:\n",
    "    details = json.load(file)\n",
    "\n",
    "# Now 'data' contains the content of your JSON file\n",
    "print(type(details))"
   ]
  },
  {
   "cell_type": "code",
   "execution_count": null,
   "id": "205d65f6",
   "metadata": {},
   "outputs": [],
   "source": [
    "details[\"12\"] # pierwsza\n",
    "details[\"103663\"] # ostatnia"
   ]
  },
  {
   "cell_type": "code",
   "execution_count": 19,
   "id": "1e8774ec",
   "metadata": {},
   "outputs": [
    {
     "name": "stdout",
     "output_type": "stream",
     "text": [
      "          id  person_id  movie_id  rate\n",
      "0      32221       1642        68   NaN\n",
      "1      32222       1642        69   NaN\n",
      "2      32223       1642       142   NaN\n",
      "3      32224       1642        77   NaN\n",
      "4      32225       1642       128   NaN\n",
      "...      ...        ...       ...   ...\n",
      "10735  42956       1455        51   NaN\n",
      "10736  42957       1455       117   NaN\n",
      "10737  42958       1455       191   NaN\n",
      "10738  42959       1455       125   NaN\n",
      "10739  42960       1455       182   NaN\n",
      "\n",
      "[10740 rows x 4 columns]\n"
     ]
    }
   ],
   "source": [
    "# Read the CSV file into a DataFrame\n",
    "task_df = pd.read_csv('movie/task.csv', delimiter=\";\")\n",
    "\n",
    "# Display the DataFrame\n",
    "print(task_df)"
   ]
  },
  {
   "cell_type": "code",
   "execution_count": 20,
   "id": "812523e3",
   "metadata": {},
   "outputs": [
    {
     "data": {
      "text/plain": [
       "array([1642, 1102,  549, 1641,  546, 1096,    5,  559,   12, 1659,  566,\n",
       "         19,  564, 1662, 1112,  575,   24,  572, 1648,  569,   31, 1135,\n",
       "       1611,  512, 1613, 1131, 1614, 1600,  526, 1604, 1122,  523,  532,\n",
       "        535, 1628, 1631, 1145,   52, 1144,  530,  543, 1618,  542, 1140,\n",
       "        537,   63,   62,   68, 1032,   69, 1033, 1583,   70,  608, 1035,\n",
       "         71, 1581, 1039,   78, 1026, 1573, 1027, 1028, 1568, 1031, 1597,\n",
       "        624, 1596,   80,   93, 1040,   92, 1589, 1043, 1588,  639, 1586,\n",
       "         90, 1046, 1066,  578, 1056,  109,  587, 1543,  106,  588,  589,\n",
       "        105, 1565,  118, 1087,  597, 1086, 1560, 1562, 1073,  125, 1077,\n",
       "        606,  139, 1222, 1767,  140, 1219, 1218, 1769, 1231,  131,  674,\n",
       "        673,  702, 1779, 1237,  154, 1238,  701,  156, 1232, 1234, 1235,\n",
       "       1781, 1244,  692, 1785,  148,  149,  151, 1255, 1728,  169,  175,\n",
       "        649, 1732, 1250, 1263,  647, 1738, 1258, 1257,  165, 1750,  188,\n",
       "        666,  189,  176, 1276,  656,  183, 1758,  180, 1759,  181,  746,\n",
       "        745,  207, 1154,  751, 1159, 1158,  748,  739,  196, 1709, 1163,\n",
       "       1708, 1162, 1165, 1718, 1716, 1714, 1712, 1724, 1722, 1180,  210,\n",
       "        239,  712, 1186, 1184,  235, 1665,  717, 1191, 1664, 1667,  233,\n",
       "       1677,  705, 1676,  706,  708, 1196,  254, 1686,  733, 1207,  251,\n",
       "        734,  721, 1214, 1689,  240, 1213, 1691,  275,  820, 1373, 1372,\n",
       "        279,  817,  829,  280, 1362,  286,  824,  258, 1359, 1354, 1353,\n",
       "       1351,  265,  304,  307, 1406,  309, 1400,  315, 1398,  314,  794,\n",
       "       1395,  318,  774, 1389,  292,  769, 1387,  296, 1382,  298,  300,\n",
       "       1376,  779,  301, 1307,  343, 1306,  341,  337,  351,  891, 1303,\n",
       "        345, 1300,  327, 1294, 1282,  334, 1283,  333,  331,  877, 1338,\n",
       "       1340,  371, 1816,  370, 1815,  381, 1328, 1813, 1330, 1804, 1322,\n",
       "        353,  355,  365, 1314, 1796,  841,  846,  845, 1494,  408,  414,\n",
       "       1488,  955, 1500,  407, 1496, 1497,  395, 1478,  393,  392,  937,\n",
       "        398, 1473,  386, 1486,  391,  388,  440,  442,  443,  922,  446,\n",
       "        447,  919, 1533, 1528,  913,  911, 1509, 1511,  428,  431,  904,\n",
       "        903,  416, 1519, 1518,  900,  899,  421, 1514,  478, 1018, 1019,\n",
       "       1009, 1432, 1012, 1002,  459, 1413,  455, 1416, 1423, 1457,  510,\n",
       "        990,  504,  991, 1462,  497, 1470,  493,  492,  974, 1444,  963,\n",
       "       1449, 1450,  960,  967,  481, 1455], dtype=int64)"
      ]
     },
     "execution_count": 20,
     "metadata": {},
     "output_type": "execute_result"
    }
   ],
   "source": [
    "task_df[\"person_id\"].unique()"
   ]
  },
  {
   "cell_type": "code",
   "execution_count": 14,
   "id": "535f277b",
   "metadata": {},
   "outputs": [
    {
     "name": "stdout",
     "output_type": "stream",
     "text": [
      "          id  person_id  movie_id  rate\n",
      "0          1       1642       137     4\n",
      "1          2       1642         1     5\n",
      "2          3       1642       136     5\n",
      "3          4       1642         2     3\n",
      "4          5       1642       139     5\n",
      "...      ...        ...       ...   ...\n",
      "32215  32216       1455       126     3\n",
      "32216  32217       1455       124     3\n",
      "32217  32218       1455       123     1\n",
      "32218  32219       1455       122     4\n",
      "32219  32220       1455       120     2\n",
      "\n",
      "[32220 rows x 4 columns]\n"
     ]
    }
   ],
   "source": [
    "# Read the CSV file into a DataFrame\n",
    "train_df = pd.read_csv('movie/train.csv', delimiter=\";\")\n",
    "\n",
    "# Display the DataFrame\n",
    "print(train_df)"
   ]
  },
  {
   "cell_type": "code",
   "execution_count": 11,
   "id": "589b1db2",
   "metadata": {},
   "outputs": [],
   "source": [
    "class TrainFromCsv:\n",
    "    def __init__(self, id, person_id, movie_id, rate):\n",
    "        self.id = id \n",
    "        self.person_id = person_id # to jest id osoby, które jest później w task.csv\n",
    "        self.movie_id = movie_id # prawdopodbnie nie będzie potrzebny bo tytuł mam też z detailsów\n",
    "        self.rate = rate # ocena w skali 1-5, której mamy dokonać w task.csv"
   ]
  },
  {
   "cell_type": "markdown",
   "id": "cd8a3b58",
   "metadata": {},
   "source": [
    "Train.csv należy teraz podzielić na podzbiory ze względu na person_id, ponieważ dla każdej osoby, będzie inny zbiór uczący."
   ]
  },
  {
   "cell_type": "code",
   "execution_count": 17,
   "id": "2797d899",
   "metadata": {},
   "outputs": [
    {
     "data": {
      "text/plain": [
       "array([1642, 1102,  549, 1641,  546, 1096,    5,  559,   12, 1659,  566,\n",
       "         19,  564, 1662, 1112,  575,   24,  572, 1648,  569,   31, 1135,\n",
       "       1611,  512, 1613, 1131, 1614, 1600,  526, 1604, 1122,  523,  532,\n",
       "        535, 1628, 1631, 1145,   52, 1144,  530,  543, 1618,  542, 1140,\n",
       "        537,   63,   62,   68, 1032,   69, 1033, 1583,   70,  608, 1035,\n",
       "         71, 1581, 1039,   78, 1026, 1573, 1027, 1028, 1568, 1031, 1597,\n",
       "        624, 1596,   80,   93, 1040,   92, 1589, 1043, 1588,  639, 1586,\n",
       "         90, 1046, 1066,  578, 1056,  109,  587, 1543,  106,  588,  589,\n",
       "        105, 1565,  118, 1087,  597, 1086, 1560, 1562, 1073,  125, 1077,\n",
       "        606,  139, 1222, 1767,  140, 1219, 1218, 1769, 1231,  131,  674,\n",
       "        673,  702, 1779, 1237,  154, 1238,  701,  156, 1232, 1234, 1235,\n",
       "       1781, 1244,  692, 1785,  148,  149,  151, 1255, 1728,  169,  175,\n",
       "        649, 1732, 1250, 1263,  647, 1738, 1258, 1257,  165, 1750,  188,\n",
       "        666,  189,  176, 1276,  656,  183, 1758,  180, 1759,  181,  746,\n",
       "        745,  207, 1154,  751, 1159, 1158,  748,  739,  196, 1709, 1163,\n",
       "       1708, 1162, 1165, 1718, 1716, 1714, 1712, 1724, 1722, 1180,  210,\n",
       "        239,  712, 1186, 1184,  235, 1665,  717, 1191, 1664, 1667,  233,\n",
       "       1677,  705, 1676,  706,  708, 1196,  254, 1686,  733, 1207,  251,\n",
       "        734,  721, 1214, 1689,  240, 1213, 1691,  275,  820, 1373, 1372,\n",
       "        279,  817,  829,  280, 1362,  286,  824,  258, 1359, 1354, 1353,\n",
       "       1351,  265,  304,  307, 1406,  309, 1400,  315, 1398,  314,  794,\n",
       "       1395,  318,  774, 1389,  292,  769, 1387,  296, 1382,  298,  300,\n",
       "       1376,  779,  301, 1307,  343, 1306,  341,  337,  351,  891, 1303,\n",
       "        345, 1300,  327, 1294, 1282,  334, 1283,  333,  331,  877, 1338,\n",
       "       1340,  371, 1816,  370, 1815,  381, 1328, 1813, 1330, 1804, 1322,\n",
       "        353,  355,  365, 1314, 1796,  841,  846,  845, 1494,  408,  414,\n",
       "       1488,  955, 1500,  407, 1496, 1497,  395, 1478,  393,  392,  937,\n",
       "        398, 1473,  386, 1486,  391,  388,  440,  442,  443,  922,  446,\n",
       "        447,  919, 1533, 1528,  913,  911, 1509, 1511,  428,  431,  904,\n",
       "        903,  416, 1519, 1518,  900,  899,  421, 1514,  478, 1018, 1019,\n",
       "       1009, 1432, 1012, 1002,  459, 1413,  455, 1416, 1423, 1457,  510,\n",
       "        990,  504,  991, 1462,  497, 1470,  493,  492,  974, 1444,  963,\n",
       "       1449, 1450,  960,  967,  481, 1455], dtype=int64)"
      ]
     },
     "execution_count": 17,
     "metadata": {},
     "output_type": "execute_result"
    }
   ],
   "source": [
    "train_df[\"person_id\"].unique()"
   ]
  },
  {
   "cell_type": "markdown",
   "id": "f8403a43",
   "metadata": {},
   "source": [
    "Musimy filtrować train.csv po danym person_id, które będzie brane z task.csv"
   ]
  },
  {
   "cell_type": "code",
   "execution_count": 28,
   "id": "a1c8f70f",
   "metadata": {},
   "outputs": [],
   "source": [
    "def filterDataFrame(column_to_filter, value_to_match, df):\n",
    "    # Use boolean indexing to filter the DataFrame\n",
    "    filtered_df = df[df[column_to_filter] == value_to_match]\n",
    "\n",
    "    return filtered_df"
   ]
  },
  {
   "cell_type": "code",
   "execution_count": 31,
   "id": "1611e9aa",
   "metadata": {},
   "outputs": [],
   "source": [
    "temp = filterDataFrame(\"person_id\", 1642, train_df)"
   ]
  },
  {
   "cell_type": "markdown",
   "id": "71d6dbc2",
   "metadata": {},
   "source": [
    "Następnie szukamy filmów w movie.csv po movie_id"
   ]
  },
  {
   "cell_type": "code",
   "execution_count": 35,
   "id": "5fdbde0c",
   "metadata": {},
   "outputs": [],
   "source": [
    "def getPersonMovies(filteredDataFrameForPerson):\n",
    "    movies_list = filteredDataFrameForPerson[\"movie_id\"].unique()\n",
    "    return movies_list"
   ]
  },
  {
   "cell_type": "code",
   "execution_count": 60,
   "id": "203560b8",
   "metadata": {},
   "outputs": [],
   "source": [
    "listOfMoviesForSpecifiedUser = getPersonMovies(temp)"
   ]
  },
  {
   "cell_type": "code",
   "execution_count": 61,
   "id": "a7e4b4fc",
   "metadata": {},
   "outputs": [
    {
     "data": {
      "text/plain": [
       "90"
      ]
     },
     "execution_count": 61,
     "metadata": {},
     "output_type": "execute_result"
    }
   ],
   "source": [
    "len(listOfMoviesForSpecifiedUser)"
   ]
  },
  {
   "cell_type": "code",
   "execution_count": 55,
   "id": "5889733c",
   "metadata": {},
   "outputs": [],
   "source": [
    "def findMovieTmdb_id(movie_id):\n",
    "    one_row = movie_df[movie_df[\"id\"] == movie_id]\n",
    "    tmdb_id = one_row[\"tmdb_id\"].values\n",
    "    return tmdb_id[0]"
   ]
  },
  {
   "cell_type": "code",
   "execution_count": 56,
   "id": "42b6330e",
   "metadata": {},
   "outputs": [
    {
     "data": {
      "text/plain": [
       "13475"
      ]
     },
     "execution_count": 56,
     "metadata": {},
     "output_type": "execute_result"
    }
   ],
   "source": [
    "findMovieTmdb_id(137)"
   ]
  }
 ],
 "metadata": {
  "kernelspec": {
   "display_name": "Python 3",
   "language": "python",
   "name": "python3"
  },
  "language_info": {
   "codemirror_mode": {
    "name": "ipython",
    "version": 3
   },
   "file_extension": ".py",
   "mimetype": "text/x-python",
   "name": "python",
   "nbconvert_exporter": "python",
   "pygments_lexer": "ipython3",
   "version": "3.8.8"
  }
 },
 "nbformat": 4,
 "nbformat_minor": 5
}
