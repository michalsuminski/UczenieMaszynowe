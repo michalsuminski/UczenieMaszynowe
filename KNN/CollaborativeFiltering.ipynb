{
 "cells": [
  {
   "cell_type": "code",
   "execution_count": 6,
   "id": "6d5a7fb5",
   "metadata": {},
   "outputs": [],
   "source": [
    "from fileToolbox import *\n",
    "from sklearn.ensemble import RandomForestClassifier\n",
    "from sklearn.metrics import accuracy_score\n",
    "from sklearn.preprocessing import MinMaxScaler\n",
    "from sklearn.model_selection import train_test_split, GridSearchCV"
   ]
  },
  {
   "cell_type": "code",
   "execution_count": 7,
   "id": "a7f6c094",
   "metadata": {},
   "outputs": [],
   "source": [
    "def warn(*args, **kwargs):\n",
    "    pass\n",
    "\n",
    "\n",
    "import warnings\n",
    "\n",
    "warnings.warn = warn\n",
    "warnings.filterwarnings(\"ignore\", category=UserWarning)"
   ]
  },
  {
   "cell_type": "code",
   "execution_count": 8,
   "id": "de21e49d",
   "metadata": {},
   "outputs": [],
   "source": [
    "set_of_person_ids = set(train_df[\"person_id\"])\n",
    "list_of_unique_person_ids = list(set_of_person_ids) # osoby to będą moje x"
   ]
  },
  {
   "cell_type": "code",
   "execution_count": 9,
   "id": "528d6c97",
   "metadata": {},
   "outputs": [],
   "source": [
    "set_of_movie_ids = set(train_df[\"movie_id\"])\n",
    "list_of_unique_movie_ids = list(set_of_person_ids) # osoby to będą moje x"
   ]
  },
  {
   "cell_type": "code",
   "execution_count": 10,
   "id": "2471025b",
   "metadata": {},
   "outputs": [],
   "source": [
    "tmp_p = set(task_df[\"person_id\"])\n",
    "tmp_m = set(task_df[\"movie_id\"])"
   ]
  },
  {
   "cell_type": "markdown",
   "id": "3f17e80f",
   "metadata": {},
   "source": [
    "Sprawdzenie czy napewno wszystkie person_id i movie_id z taska występują w trainie"
   ]
  },
  {
   "cell_type": "code",
   "execution_count": 11,
   "id": "0cb63916",
   "metadata": {},
   "outputs": [],
   "source": [
    "for person in set_of_person_ids:\n",
    "    if person not in tmp_p:\n",
    "        print(person)"
   ]
  },
  {
   "cell_type": "code",
   "execution_count": 12,
   "id": "85071d47",
   "metadata": {},
   "outputs": [],
   "source": [
    "for movie in set_of_movie_ids:\n",
    "    if movie not in tmp_m:\n",
    "        print(movie)"
   ]
  },
  {
   "cell_type": "markdown",
   "id": "363c8f8e",
   "metadata": {},
   "source": [
    "Dla każdego filmu generuje n elementowy wektor cech"
   ]
  },
  {
   "cell_type": "code",
   "execution_count": 13,
   "id": "18e67d7f",
   "metadata": {},
   "outputs": [],
   "source": [
    "N = 10 # to będzie hiperparametr"
   ]
  },
  {
   "cell_type": "code",
   "execution_count": 14,
   "id": "dae11f91",
   "metadata": {},
   "outputs": [],
   "source": [
    "M = len(set_of_movie_ids)\n",
    "R = len(set_of_person_ids)"
   ]
  },
  {
   "cell_type": "code",
   "execution_count": 15,
   "id": "d1b578f3",
   "metadata": {},
   "outputs": [
    {
     "name": "stdout",
     "output_type": "stream",
     "text": [
      "200\n",
      "358\n"
     ]
    }
   ],
   "source": [
    "print(M)\n",
    "print(R)"
   ]
  },
  {
   "cell_type": "code",
   "execution_count": 148,
   "id": "00b732b6",
   "metadata": {},
   "outputs": [],
   "source": [
    "import random\n",
    "# losowa inicjalizacja list p - parametrów i x - wejść z przedziału <-1, 1>\n",
    "X_INPUTS = [[random.uniform(-1, 1) for j in range(N)] for i in range(M)] # parametrów jest n+1 bo stała\n",
    "PARAMS = [[random.uniform(-1, 1) for j in range(N+1)] for i in range(R)]"
   ]
  },
  {
   "cell_type": "code",
   "execution_count": 19,
   "id": "10687757",
   "metadata": {},
   "outputs": [],
   "source": [
    "# kodowanie filmów czyli m idzie od 0 do M, ale m to nie jest movie_id wieć muszę zrobić ,np. m=0 -> movie_id = 12\n",
    "movies_dict = {}\n",
    "for m in range(M):\n",
    "    movies_dict[m] = list(set_of_movie_ids)[m]"
   ]
  },
  {
   "cell_type": "code",
   "execution_count": null,
   "id": "90f6ff98",
   "metadata": {},
   "outputs": [],
   "source": [
    "movies_dict"
   ]
  },
  {
   "cell_type": "code",
   "execution_count": 56,
   "id": "04801d97",
   "metadata": {},
   "outputs": [],
   "source": [
    "with open('json/movies_dict.json', 'w') as file:\n",
    "    json.dump(movies_dict, file)"
   ]
  },
  {
   "cell_type": "code",
   "execution_count": 21,
   "id": "18332b89",
   "metadata": {},
   "outputs": [],
   "source": [
    "# kodowanie filmów czyli m idzie od 0 do M, ale m to nie jest movie_id wieć muszę zrobić ,np. m=0 -> movie_id = 12\n",
    "person_dict = {}\n",
    "for r in range(R):\n",
    "    person_dict[r] = list(set_of_person_ids)[r]"
   ]
  },
  {
   "cell_type": "code",
   "execution_count": null,
   "id": "9ed5bca0",
   "metadata": {},
   "outputs": [],
   "source": [
    "person_dict"
   ]
  },
  {
   "cell_type": "code",
   "execution_count": 55,
   "id": "5484fb2b",
   "metadata": {},
   "outputs": [],
   "source": [
    "with open('json/person_dict.json', 'w') as file:\n",
    "    json.dump(person_dict, file)"
   ]
  },
  {
   "cell_type": "code",
   "execution_count": 50,
   "id": "28d2a341",
   "metadata": {},
   "outputs": [],
   "source": [
    "def findMovieRatingByPerson(person_id, movie_id):\n",
    "    person_movies = filterDataFrame(\"person_id\", person_id, train_df)\n",
    "    if movie_id in list(person_movies[\"movie_id\"]):\n",
    "        return int(person_movies[person_movies[\"movie_id\"]==movie_id][\"rate\"])\n",
    "    else:\n",
    "        return None"
   ]
  },
  {
   "cell_type": "code",
   "execution_count": 59,
   "id": "029887b1",
   "metadata": {},
   "outputs": [],
   "source": [
    "# macierz Y - ustawić rate lub NULL na poszczególnych indeksach\n",
    "Y_RESULTS = []\n",
    "E = [] # tablica do przechowywania maski 0 i 1, czy m-ty film jest oceniony przez m-tą osobę\n",
    "for m in range(M):\n",
    "    movie_id = movies_dict[m]\n",
    "    movie_ratings = []\n",
    "    E_row = []\n",
    "    for r in range(R):\n",
    "        # znalezienie oceny dla m-tego filmu, wystawionej przez r-tą osobę\n",
    "        person_id = person_dict[r]\n",
    "        rate = findMovieRatingByPerson(person_id, movie_id)\n",
    "        movie_ratings.append(rate)\n",
    "        if rate is None:\n",
    "            E_row.append(0)\n",
    "        else:\n",
    "            E_row.append(1)\n",
    "    Y_RESULTS.append(movie_ratings)\n",
    "    E.append(E_row)\n"
   ]
  },
  {
   "cell_type": "code",
   "execution_count": 29,
   "id": "cb4e9931",
   "metadata": {},
   "outputs": [],
   "source": [
    "def isMovieRatedByPerson(movie, person):\n",
    "    df_person = filterDataFrame(\"person_id\", person, train_df)\n",
    "    list_of_movies = list(df_person[\"movie_id\"]))\n",
    "    if movie in list_of_movies:\n",
    "        return 1\n",
    "    else:\n",
    "        return 0"
   ]
  },
  {
   "cell_type": "code",
   "execution_count": 2,
   "id": "d8d432b9",
   "metadata": {},
   "outputs": [],
   "source": [
    "# def main_function(p, x, y, alfa, beta, num_of_epochs): # alfa - współczynnik uczenia do P, beta - współczynnik uczenia do X\n",
    "#     for epoch in range(num_of_epochs):\n",
    "#         for r, p in enumerate(PARAMS):\n",
    "#             for m in range(len(movies)): # m - liczba filmów, p - parametry da r-tej ososby\n",
    "#                 for n in range(len(p)):\n",
    "#                     p[n] = p[n] - alfa * derivative_P(x[m], y, p, n) # poprawiam naraz w jednej iteracji x i p\n",
    "#                     x[m][n] = x[n] - beta * derivative_X(x[m], y, p, n)"
   ]
  },
  {
   "cell_type": "code",
   "execution_count": 146,
   "id": "701b7503",
   "metadata": {},
   "outputs": [],
   "source": [
    "def main_function(alfa, beta, num_of_epochs): # alfa - współczynnik uczenia do P, beta - współczynnik uczenia do X\n",
    "    for epoch in range(num_of_epochs):\n",
    "        print(Q(X_INPUTS, PARAMS, Y_RESULTS))\n",
    "        for r, p in enumerate(PARAMS): # r - indeks osób\n",
    "            for m, x in enumerate(X_INPUTS): # m - indeks filmów\n",
    "                if E[m][r]==1: # używamy tylko tych danych, gdzie znany jest rate dla m-tego filmu i r-tej osoby\n",
    "                    for n in range(len(p)):\n",
    "                        # poprawiam naraz w jednej iteracji x i p\n",
    "#                         print(str(n) + ' ' + str(derivative_P(X_INPUTS, Y_RESULTS, p, n, r)))\n",
    "                        p[n] = p[n] - alfa * derivative_P(X_INPUTS, Y_RESULTS, p, n, r) # UWAGA parametrów jest n+1\n",
    "                        if n != (len(p)-1): # p jest o 1 dłuższe niż x\n",
    "                            x[n] = x[n] - beta * derivative_X(x, Y_RESULTS, PARAMS, n, m)\n",
    "#         print(Q(X_INPUTS, PARAMS, Y_RESULTS)) # błąd liczymy po całej przestrzeni"
   ]
  },
  {
   "cell_type": "code",
   "execution_count": 121,
   "id": "f48e39b9",
   "metadata": {},
   "outputs": [],
   "source": [
    "def Q(X, P, Y):\n",
    "    res = 0.0\n",
    "    for r, p in enumerate(P): # r - indeks osób\n",
    "            for m, x in enumerate(X): # m - indeks filmów\n",
    "                if E[m][r]==1:\n",
    "                    res += (calc_output(x, p) - Y[m][r]) ** 2\n",
    "#                     print('calc: ' + str(calc_output(x, p)))\n",
    "#                     print('y: ' + str(Y[m][r]))\n",
    "#                     print(\"Res: \" +str(res))\n",
    "    return res / 2 "
   ]
  },
  {
   "cell_type": "code",
   "execution_count": 142,
   "id": "0e015c4f",
   "metadata": {},
   "outputs": [],
   "source": [
    "def derivative_P(X, Y, p, i, r):\n",
    "    res = 0.0\n",
    "    for m in range(len(X)): # przechodzimy po filmach m\n",
    "        if E[m][r]==1:\n",
    "            if i ==0: # dla p0 bez mnożenia z X[m][i]\n",
    "                res += (calc_output(X[m], p) - Y[m][r])\n",
    "            else:\n",
    "                res += (calc_output(X[m], p) - Y[m][r]) * X[m][i-1]\n",
    "    return (1 / (len(X))) * res  # prawdopodobnie tu powinno być (1 / (len(X))) * res"
   ]
  },
  {
   "cell_type": "code",
   "execution_count": 141,
   "id": "b2850baa",
   "metadata": {},
   "outputs": [],
   "source": [
    "def derivative_X(X, Y, p, i, m):\n",
    "    res = 0.0\n",
    "    for r in range(len(p)): # przechodzimy po osobach r\n",
    "        if E[m][r]==1:\n",
    "            res += (calc_output(X, p[r]) - Y[m][r]) * p[r][i+1]\n",
    "    return (1 / (len(p))) * res  # prawdopodobnie tu powinno być (1 / (len(X))) * res"
   ]
  },
  {
   "cell_type": "code",
   "execution_count": 125,
   "id": "23bde70f",
   "metadata": {},
   "outputs": [],
   "source": [
    "def calc_output(x, p):\n",
    "#     print(x)\n",
    "#     print(p)\n",
    "    summ = p[0]\n",
    "    for n in range(len(x)):\n",
    "        tmp = x[n]\n",
    "        summ = summ + tmp * p[n+1] # muszę mnożyć x0 z p1, x1 z p2 itp. bo p o 1 dłuższe niż x\n",
    "    return summ"
   ]
  },
  {
   "cell_type": "code",
   "execution_count": 149,
   "id": "973b6912",
   "metadata": {},
   "outputs": [
    {
     "name": "stdout",
     "output_type": "stream",
     "text": [
      "204974.64190780986\n",
      "17540.704905987834\n",
      "14169.101238115003\n",
      "13632.990203194677\n",
      "13409.557271787586\n",
      "13284.357368043837\n",
      "13207.247950317267\n",
      "13159.62990553671\n",
      "13130.52333247596\n",
      "13112.024709598123\n",
      "13099.292029702952\n",
      "13089.718129589792\n",
      "13081.9348182043\n",
      "13075.199572478738\n",
      "13069.092434289101\n",
      "13063.374891666153\n",
      "13057.923085836908\n",
      "13052.69157386707\n",
      "13047.685590918409\n",
      "13042.934051299417\n",
      "13038.46668310661\n",
      "13034.301432180218\n",
      "13030.442380590954\n",
      "13026.882864795924\n",
      "13023.60885833619\n",
      "13020.601048958582\n",
      "13017.836214737496\n",
      "13015.288733463256\n",
      "13012.93246767004\n",
      "13010.742767250227\n",
      "13008.698174784568\n",
      "13006.781509057188\n",
      "13004.980188431266\n",
      "13003.285841814597\n",
      "13001.69339744939\n",
      "13000.199917839454\n",
      "12998.803452360959\n",
      "12997.502114131712\n",
      "12996.293483536374\n",
      "12995.174337842296\n",
      "12994.140636586142\n",
      "12993.187666230706\n",
      "12992.310255824565\n",
      "12991.503000644268\n",
      "12990.760458071361\n",
      "12990.077301161138\n",
      "12989.448428550711\n",
      "12988.86903592707\n",
      "12988.334656565728\n",
      "12987.8411784676\n",
      "12987.384844648688\n",
      "12986.962241909803\n",
      "12986.570282224307\n",
      "12986.206179851983\n",
      "12985.867426454743\n",
      "12985.55176580913\n",
      "12985.257169190141\n",
      "12984.981812106967\n",
      "12984.724052768586\n",
      "12984.48241245392\n",
      "12984.255557812547\n",
      "12984.042285033778\n",
      "12983.841505762011\n",
      "12983.65223461184\n",
      "12983.473578123223\n",
      "12983.304725000355\n",
      "12983.144937489556\n",
      "12982.993543753126\n",
      "12982.849931127474\n",
      "12982.713540145785\n",
      "12982.583859241708\n",
      "12982.46042004185\n",
      "12982.342793180253\n",
      "12982.230584570518\n",
      "12982.123432078672\n",
      "12982.021002552949\n",
      "12981.922989164717\n",
      "12981.829109028047\n",
      "12981.739101061694\n",
      "12981.652724070409\n",
      "12981.569755016239\n",
      "12981.489987462646\n",
      "12981.4132301686\n",
      "12981.339305819041\n",
      "12981.268049875236\n",
      "12981.199309532602\n",
      "12981.132942774211\n",
      "12981.068817510868\n",
      "12981.006810797808\n",
      "12980.946808120467\n",
      "12980.888702743006\n",
      "12980.832395111805\n",
      "12980.777792311083\n",
      "12980.724807562221\n",
      "12980.67335976681\n",
      "12980.623373084762\n",
      "12980.574776549154\n",
      "12980.527503709282\n",
      "12980.481492304694\n",
      "12980.436683962706\n"
     ]
    }
   ],
   "source": [
    "main_function(0.9, 0.9, 100)"
   ]
  },
  {
   "cell_type": "code",
   "execution_count": 150,
   "id": "a5fe7bfa",
   "metadata": {},
   "outputs": [],
   "source": [
    "with open('json/X_INPUTS_0.9_0.9_100.json', 'w') as file:\n",
    "    json.dump(X_INPUTS, file)"
   ]
  },
  {
   "cell_type": "code",
   "execution_count": 151,
   "id": "33febb4e",
   "metadata": {},
   "outputs": [],
   "source": [
    "with open('json/PARAMS_0.9_0.9_100.json', 'w') as file:\n",
    "    json.dump(PARAMS, file)"
   ]
  },
  {
   "cell_type": "code",
   "execution_count": 168,
   "id": "53efb79c",
   "metadata": {},
   "outputs": [],
   "source": [
    "# m- movie_id, r - person_id\n",
    "def collaborativeFilteringClassifier(m, r):\n",
    "    for key,value in movies_dict.items():\n",
    "        if value==m:\n",
    "            movie_id = key\n",
    "    for key,value in person_dict.items():\n",
    "        if value==r:\n",
    "            person_id = key\n",
    "    return round(calc_output(X_INPUTS[movie_id], PARAMS[person_id]))"
   ]
  },
  {
   "cell_type": "code",
   "execution_count": 152,
   "id": "206e0f74",
   "metadata": {},
   "outputs": [],
   "source": [
    "train_list = []\n",
    "for index, row in train_df.iterrows():\n",
    "    train_list.append([int(row['person_id']), int(row['movie_id']), int(row['rate'])])"
   ]
  },
  {
   "cell_type": "code",
   "execution_count": 153,
   "id": "3cf526da",
   "metadata": {},
   "outputs": [],
   "source": [
    "length = int(len(train_list)*0.2)"
   ]
  },
  {
   "cell_type": "code",
   "execution_count": 154,
   "id": "05af550d",
   "metadata": {},
   "outputs": [],
   "source": [
    "test = train_list[:length]"
   ]
  },
  {
   "cell_type": "code",
   "execution_count": 158,
   "id": "f4deb8d7",
   "metadata": {},
   "outputs": [],
   "source": [
    "test_x = [elem[:2] for elem in test]\n",
    "test_y = [elem[2] for elem in test]"
   ]
  },
  {
   "cell_type": "code",
   "execution_count": 169,
   "id": "1ed8a7cc",
   "metadata": {},
   "outputs": [],
   "source": [
    "results = []\n",
    "for index, elem in enumerate(test_x):\n",
    "    results.append(collaborativeFilteringClassifier(elem[1], elem[0]))"
   ]
  },
  {
   "cell_type": "code",
   "execution_count": 170,
   "id": "9ed4c1f5",
   "metadata": {},
   "outputs": [],
   "source": [
    "from sklearn.metrics import accuracy_score\n",
    "accuracy = accuracy_score(test_y, results)"
   ]
  },
  {
   "cell_type": "code",
   "execution_count": 171,
   "id": "21ae9d8c",
   "metadata": {},
   "outputs": [
    {
     "data": {
      "text/plain": [
       "0.47"
      ]
     },
     "execution_count": 171,
     "metadata": {},
     "output_type": "execute_result"
    }
   ],
   "source": [
    "round(accuracy, 2)"
   ]
  },
  {
   "cell_type": "code",
   "execution_count": 175,
   "id": "dfe0a5c6",
   "metadata": {},
   "outputs": [],
   "source": [
    "# wyniki są dla 100 epok, alfa,beta = 0.9, N=10\n",
    "COUNTER = 0\n",
    "def applyCollaborativeFilteringClassifier(row):\n",
    "    global COUNTER\n",
    "    print(COUNTER)\n",
    "    COUNTER += 1\n",
    "    movie_id = row['movie_id']\n",
    "    person_id = row['person_id']    \n",
    "    rate = collaborativeFilteringClassifier(movie_id, person_id)\n",
    "    return rate"
   ]
  },
  {
   "cell_type": "code",
   "execution_count": null,
   "id": "170ec0da",
   "metadata": {},
   "outputs": [],
   "source": [
    "# Apply the function to update the \"rate\" column\n",
    "task_df['rate'] = task_df.apply(applyCollaborativeFilteringClassifier, axis=1)"
   ]
  },
  {
   "cell_type": "code",
   "execution_count": 177,
   "id": "600e9898",
   "metadata": {},
   "outputs": [],
   "source": [
    "task_df.to_csv('submission_collaborative_0.9_0.9_100.csv', index=False)"
   ]
  },
  {
   "cell_type": "code",
   "execution_count": 181,
   "id": "3d5c08e2",
   "metadata": {},
   "outputs": [],
   "source": [
    "import random\n",
    "N = 20\n",
    "# losowa inicjalizacja list p - parametrów i x - wejść z przedziału <-1, 1>\n",
    "X_INPUTS = [[random.uniform(-1, 1) for j in range(N)] for i in range(M)] # parametrów jest n+1 bo stała\n",
    "PARAMS = [[random.uniform(-1, 1) for j in range(N+1)] for i in range(R)]"
   ]
  },
  {
   "cell_type": "code",
   "execution_count": 182,
   "id": "4ea5afb2",
   "metadata": {},
   "outputs": [
    {
     "name": "stdout",
     "output_type": "stream",
     "text": [
      "222975.57277275823\n",
      "14566.723969111647\n",
      "9803.248514547884\n",
      "8883.937559782433\n",
      "8510.99210611923\n",
      "8302.263369247039\n",
      "8162.379320930968\n",
      "8061.474574321414\n",
      "7986.639768131271\n",
      "7929.440080153594\n",
      "7884.046683168882\n",
      "7846.645359221159\n",
      "7814.777585529416\n",
      "7786.827432224494\n",
      "7761.726023297432\n",
      "7738.845963540526\n",
      "7717.926229788669\n",
      "7698.9285021558\n",
      "7681.87012509295\n",
      "7666.718296759361\n"
     ]
    }
   ],
   "source": [
    "# 100 iteracji jak widać na poprzednim wywołaniu to za dużo po +/- 2- epoce już mało się zmienia\n",
    "main_function(0.9, 0.9, 20)"
   ]
  },
  {
   "cell_type": "code",
   "execution_count": 183,
   "id": "f6d648db",
   "metadata": {},
   "outputs": [],
   "source": [
    "results = []\n",
    "for index, elem in enumerate(test_x):\n",
    "    results.append(collaborativeFilteringClassifier(elem[1], elem[0]))"
   ]
  },
  {
   "cell_type": "code",
   "execution_count": 184,
   "id": "b87b4362",
   "metadata": {},
   "outputs": [
    {
     "name": "stdout",
     "output_type": "stream",
     "text": [
      "0.57\n"
     ]
    }
   ],
   "source": [
    "accuracy = accuracy_score(test_y, results)\n",
    "print(round(accuracy, 2))"
   ]
  },
  {
   "cell_type": "code",
   "execution_count": null,
   "id": "cbe08a9c",
   "metadata": {},
   "outputs": [],
   "source": [
    "task_df['rate'] = task_df.apply(applyCollaborativeFilteringClassifier, axis=1)"
   ]
  },
  {
   "cell_type": "code",
   "execution_count": 186,
   "id": "139c2a84",
   "metadata": {},
   "outputs": [],
   "source": [
    "task_df.to_csv('submission_collaborative_a0.9_b0.9_e20_n20.csv', index=False)"
   ]
  },
  {
   "cell_type": "code",
   "execution_count": 187,
   "id": "43cb032d",
   "metadata": {},
   "outputs": [],
   "source": [
    "with open('json/X_INPUTS_a0.9_b0.9_e20_n20.json', 'w') as file:\n",
    "    json.dump(X_INPUTS, file)"
   ]
  },
  {
   "cell_type": "code",
   "execution_count": 188,
   "id": "cd2c3259",
   "metadata": {},
   "outputs": [],
   "source": [
    "with open('json/PARAMS_a0.9_b0.9_e20_n20.json', 'w') as file:\n",
    "    json.dump(PARAMS, file)"
   ]
  },
  {
   "cell_type": "code",
   "execution_count": 189,
   "id": "603db7db",
   "metadata": {},
   "outputs": [],
   "source": [
    "N = 50\n",
    "# losowa inicjalizacja list p - parametrów i x - wejść z przedziału <-1, 1>\n",
    "X_INPUTS = [[random.uniform(-1, 1) for j in range(N)] for i in range(M)] # parametrów jest n+1 bo stała\n",
    "PARAMS = [[random.uniform(-1, 1) for j in range(N+1)] for i in range(R)]"
   ]
  },
  {
   "cell_type": "code",
   "execution_count": 190,
   "id": "10bd727b",
   "metadata": {},
   "outputs": [
    {
     "name": "stdout",
     "output_type": "stream",
     "text": [
      "273149.7611437246\n",
      "9077.392038858314\n",
      "3135.0162703698697\n",
      "2151.291526446637\n",
      "1731.1336422931925\n",
      "1494.9933121792094\n",
      "1341.7949146164665\n",
      "1231.4047873518546\n",
      "1145.87843759452\n",
      "1076.5356060732006\n",
      "1018.6677885138452\n",
      "969.4405590642098\n",
      "927.0509418105252\n",
      "890.2780638446103\n",
      "858.2025860157759\n",
      "830.0726594944575\n",
      "805.2634655200767\n",
      "783.2639429661572\n",
      "763.6590922881043\n",
      "746.1064773971102\n"
     ]
    }
   ],
   "source": [
    "main_function(0.9, 0.9, 20)"
   ]
  },
  {
   "cell_type": "code",
   "execution_count": 191,
   "id": "d7f5622d",
   "metadata": {},
   "outputs": [],
   "source": [
    "with open('json/X_INPUTS_a0.9_b0.9_e20_n50.json', 'w') as file:\n",
    "    json.dump(X_INPUTS, file)"
   ]
  },
  {
   "cell_type": "code",
   "execution_count": 192,
   "id": "04217eda",
   "metadata": {},
   "outputs": [],
   "source": [
    "with open('json/PARAMS_a0.9_b0.9_e20_n50.json', 'w') as file:\n",
    "    json.dump(PARAMS, file)"
   ]
  },
  {
   "cell_type": "code",
   "execution_count": 193,
   "id": "acf27162",
   "metadata": {},
   "outputs": [],
   "source": [
    "results = []\n",
    "for index, elem in enumerate(test_x):\n",
    "    results.append(collaborativeFilteringClassifier(elem[1], elem[0]))"
   ]
  },
  {
   "cell_type": "code",
   "execution_count": 194,
   "id": "e5473945",
   "metadata": {},
   "outputs": [
    {
     "name": "stdout",
     "output_type": "stream",
     "text": [
      "0.97\n"
     ]
    }
   ],
   "source": [
    "accuracy = accuracy_score(test_y, results)\n",
    "print(round(accuracy, 2))"
   ]
  },
  {
   "cell_type": "code",
   "execution_count": null,
   "id": "345cf7d7",
   "metadata": {},
   "outputs": [],
   "source": [
    "task_df['rate'] = task_df.apply(applyCollaborativeFilteringClassifier, axis=1)"
   ]
  },
  {
   "cell_type": "code",
   "execution_count": 196,
   "id": "b37a91d4",
   "metadata": {},
   "outputs": [],
   "source": [
    "task_df.to_csv('submission_collaborative_a0.9_b0.9_e20_n50.csv', index=False)"
   ]
  },
  {
   "cell_type": "code",
   "execution_count": null,
   "id": "4e9442d3",
   "metadata": {},
   "outputs": [],
   "source": []
  }
 ],
 "metadata": {
  "kernelspec": {
   "display_name": "Python 3",
   "language": "python",
   "name": "python3"
  },
  "language_info": {
   "codemirror_mode": {
    "name": "ipython",
    "version": 3
   },
   "file_extension": ".py",
   "mimetype": "text/x-python",
   "name": "python",
   "nbconvert_exporter": "python",
   "pygments_lexer": "ipython3",
   "version": "3.8.8"
  }
 },
 "nbformat": 4,
 "nbformat_minor": 5
}
