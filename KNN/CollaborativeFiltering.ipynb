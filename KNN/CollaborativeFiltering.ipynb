{
 "cells": [
  {
   "cell_type": "code",
   "execution_count": 6,
   "id": "8ec52a40",
   "metadata": {},
   "outputs": [],
   "source": [
    "from fileToolbox import *\n",
    "from sklearn.ensemble import RandomForestClassifier\n",
    "from sklearn.metrics import accuracy_score\n",
    "from sklearn.preprocessing import MinMaxScaler\n",
    "from sklearn.model_selection import train_test_split, GridSearchCV"
   ]
  },
  {
   "cell_type": "code",
   "execution_count": 7,
   "id": "f2541841",
   "metadata": {},
   "outputs": [],
   "source": [
    "def warn(*args, **kwargs):\n",
    "    pass\n",
    "\n",
    "\n",
    "import warnings\n",
    "\n",
    "warnings.warn = warn\n",
    "warnings.filterwarnings(\"ignore\", category=UserWarning)"
   ]
  },
  {
   "cell_type": "code",
   "execution_count": 8,
   "id": "e9a15507",
   "metadata": {},
   "outputs": [],
   "source": [
    "set_of_person_ids = set(train_df[\"person_id\"])\n",
    "list_of_unique_person_ids = list(set_of_person_ids) # osoby to będą moje x"
   ]
  },
  {
   "cell_type": "code",
   "execution_count": 9,
   "id": "e0dd927a",
   "metadata": {},
   "outputs": [],
   "source": [
    "set_of_movie_ids = set(train_df[\"movie_id\"])\n",
    "list_of_unique_movie_ids = list(set_of_person_ids) # osoby to będą moje x"
   ]
  },
  {
   "cell_type": "code",
   "execution_count": 10,
   "id": "d0596b5c",
   "metadata": {},
   "outputs": [],
   "source": [
    "tmp_p = set(task_df[\"person_id\"])\n",
    "tmp_m = set(task_df[\"movie_id\"])"
   ]
  },
  {
   "cell_type": "markdown",
   "id": "350ff332",
   "metadata": {},
   "source": [
    "Sprawdzenie czy napewno wszystkie person_id i movie_id z taska występują w trainie"
   ]
  },
  {
   "cell_type": "code",
   "execution_count": 11,
   "id": "56d1d3cb",
   "metadata": {},
   "outputs": [],
   "source": [
    "for person in set_of_person_ids:\n",
    "    if person not in tmp_p:\n",
    "        print(person)"
   ]
  },
  {
   "cell_type": "code",
   "execution_count": 12,
   "id": "e6a5de8a",
   "metadata": {},
   "outputs": [],
   "source": [
    "for movie in set_of_movie_ids:\n",
    "    if movie not in tmp_m:\n",
    "        print(movie)"
   ]
  },
  {
   "cell_type": "markdown",
   "id": "1616bbaf",
   "metadata": {},
   "source": [
    "Dla każdego filmu generuje n elementowy wektor cech"
   ]
  },
  {
   "cell_type": "code",
   "execution_count": 13,
   "id": "5e34ea91",
   "metadata": {},
   "outputs": [],
   "source": [
    "N = 10 # to będzie hiperparametr"
   ]
  },
  {
   "cell_type": "code",
   "execution_count": 14,
   "id": "9714b0da",
   "metadata": {},
   "outputs": [],
   "source": [
    "M = len(set_of_movie_ids)\n",
    "R = len(set_of_person_ids)"
   ]
  },
  {
   "cell_type": "code",
   "execution_count": 15,
   "id": "df241ce8",
   "metadata": {},
   "outputs": [
    {
     "name": "stdout",
     "output_type": "stream",
     "text": [
      "200\n",
      "358\n"
     ]
    }
   ],
   "source": [
    "print(M)\n",
    "print(R)"
   ]
  },
  {
   "cell_type": "code",
   "execution_count": 91,
   "id": "d813f769",
   "metadata": {},
   "outputs": [],
   "source": [
    "import random\n",
    "# losowa inicjalizacja list p - parametrów i x - wejść z przedziału <-1, 1>\n",
    "X_INPUTS = [[random.uniform(-1, 1) for j in range(N+1)] for i in range(M)] # parametrów jest n+1 bo stała\n",
    "PARAMS = [[random.uniform(-1, 1) for j in range(N)] for i in range(R)]"
   ]
  },
  {
   "cell_type": "code",
   "execution_count": 19,
   "id": "9b8a5d7e",
   "metadata": {},
   "outputs": [],
   "source": [
    "# kodowanie filmów czyli m idzie od 0 do M, ale m to nie jest movie_id wieć muszę zrobić ,np. m=0 -> movie_id = 12\n",
    "movies_dict = {}\n",
    "for m in range(M):\n",
    "    movies_dict[m] = list(set_of_movie_ids)[m]"
   ]
  },
  {
   "cell_type": "code",
   "execution_count": null,
   "id": "9038b128",
   "metadata": {},
   "outputs": [],
   "source": [
    "movies_dict"
   ]
  },
  {
   "cell_type": "code",
   "execution_count": 56,
   "id": "9413edea",
   "metadata": {},
   "outputs": [],
   "source": [
    "with open('json/movies_dict.json', 'w') as file:\n",
    "    json.dump(movies_dict, file)"
   ]
  },
  {
   "cell_type": "code",
   "execution_count": 21,
   "id": "644a28d1",
   "metadata": {},
   "outputs": [],
   "source": [
    "# kodowanie filmów czyli m idzie od 0 do M, ale m to nie jest movie_id wieć muszę zrobić ,np. m=0 -> movie_id = 12\n",
    "person_dict = {}\n",
    "for r in range(R):\n",
    "    person_dict[r] = list(set_of_person_ids)[r]"
   ]
  },
  {
   "cell_type": "code",
   "execution_count": null,
   "id": "07b227b8",
   "metadata": {},
   "outputs": [],
   "source": [
    "person_dict"
   ]
  },
  {
   "cell_type": "code",
   "execution_count": 55,
   "id": "57261c10",
   "metadata": {},
   "outputs": [],
   "source": [
    "with open('json/person_dict.json', 'w') as file:\n",
    "    json.dump(person_dict, file)"
   ]
  },
  {
   "cell_type": "code",
   "execution_count": 50,
   "id": "a8451ec2",
   "metadata": {},
   "outputs": [],
   "source": [
    "def findMovieRatingByPerson(person_id, movie_id):\n",
    "    person_movies = filterDataFrame(\"person_id\", person_id, train_df)\n",
    "    if movie_id in list(person_movies[\"movie_id\"]):\n",
    "        return int(person_movies[person_movies[\"movie_id\"]==movie_id][\"rate\"])\n",
    "    else:\n",
    "        return None"
   ]
  },
  {
   "cell_type": "code",
   "execution_count": 59,
   "id": "9d1fbb66",
   "metadata": {},
   "outputs": [],
   "source": [
    "# macierz Y - ustawić rate lub NULL na poszczególnych indeksach\n",
    "Y_RESULTS = []\n",
    "E = [] # tablica do przechowywania maski 0 i 1, czy m-ty film jest oceniony przez m-tą osobę\n",
    "for m in range(M):\n",
    "    movie_id = movies_dict[m]\n",
    "    movie_ratings = []\n",
    "    E_row = []\n",
    "    for r in range(R):\n",
    "        # znalezienie oceny dla m-tego filmu, wystawionej przez r-tą osobę\n",
    "        person_id = person_dict[r]\n",
    "        rate = findMovieRatingByPerson(person_id, movie_id)\n",
    "        movie_ratings.append(rate)\n",
    "        if rate is None:\n",
    "            E_row.append(0)\n",
    "        else:\n",
    "            E_row.append(1)\n",
    "    Y_RESULTS.append(movie_ratings)\n",
    "    E.append(E_row)\n"
   ]
  },
  {
   "cell_type": "code",
   "execution_count": 54,
   "id": "3faa2fcc",
   "metadata": {},
   "outputs": [],
   "source": [
    "with open('json/Y_RESULTS.json', 'w') as file:\n",
    "    json.dump(Y_RESULTS, file)"
   ]
  },
  {
   "cell_type": "code",
   "execution_count": 61,
   "id": "35281498",
   "metadata": {},
   "outputs": [],
   "source": [
    "with open('json/E.json', 'w') as file:\n",
    "    json.dump(E, file)"
   ]
  },
  {
   "cell_type": "code",
   "execution_count": 29,
   "id": "c9beb6bb",
   "metadata": {},
   "outputs": [],
   "source": [
    "def isMovieRatedByPerson(movie, person):\n",
    "    df_person = filterDataFrame(\"person_id\", person, train_df)\n",
    "    list_of_movies = list(df_person[\"movie_id\"]))\n",
    "    if movie in list_of_movies:\n",
    "        return 1\n",
    "    else:\n",
    "        return 0"
   ]
  },
  {
   "cell_type": "code",
   "execution_count": 2,
   "id": "b22452ae",
   "metadata": {},
   "outputs": [],
   "source": [
    "# def main_function(p, x, y, alfa, beta, num_of_epochs): # alfa - współczynnik uczenia do P, beta - współczynnik uczenia do X\n",
    "#     for epoch in range(num_of_epochs):\n",
    "#         for r, p in enumerate(PARAMS):\n",
    "#             for m in range(len(movies)): # m - liczba filmów, p - parametry da r-tej ososby\n",
    "#                 for n in range(len(p)):\n",
    "#                     p[n] = p[n] - alfa * derivative_P(x[m], y, p, n) # poprawiam naraz w jednej iteracji x i p\n",
    "#                     x[m][n] = x[n] - beta * derivative_X(x[m], y, p, n)"
   ]
  },
  {
   "cell_type": "code",
   "execution_count": 76,
   "id": "456179d3",
   "metadata": {},
   "outputs": [],
   "source": [
    "def main_function(alfa, beta, num_of_epochs): # alfa - współczynnik uczenia do P, beta - współczynnik uczenia do X\n",
    "    for epoch in range(num_of_epochs):\n",
    "        for r, p in enumerate(PARAMS): # r - indeks osób\n",
    "            for m, x in enumerate(X_INPUTS): # m - indeks filmów\n",
    "                if E[m][r]==1: # używamy tylko tych danych, gdzie znany jest rate dla m-tego filmu i r-tej osoby\n",
    "                    for n in range(len(p)):\n",
    "                        # poprawiam naraz w jednej iteracji x i p\n",
    "                        p[n] = p[n] - alfa * derivative_P(X_INPUTS, Y_RESULTS, p, n, r) # UWAGA parametrów jest n+1\n",
    "                        if n != (len(p)-1): # p jest o 1 dłuższe niż x\n",
    "                            x[n] = x[n] - beta * derivative_X(x, Y_RESULTS, PARAMS, n, m)\n",
    "    print(Q(X_INPUTS, PARAMS, Y_RESULTS)) # błąd liczymy po całej przestrzeni"
   ]
  },
  {
   "cell_type": "code",
   "execution_count": 77,
   "id": "b3e66273",
   "metadata": {},
   "outputs": [],
   "source": [
    "def Q(X, P, Y):\n",
    "    res = 0.0\n",
    "    for r, p in enumerate(P): # r - indeks osób\n",
    "            for m, x in enumerate(X):\n",
    "                res += (calc_output(x, p) - Y[r][m]) ** 2\n",
    "    return res / 2 "
   ]
  },
  {
   "cell_type": "code",
   "execution_count": 89,
   "id": "354d72c5",
   "metadata": {},
   "outputs": [],
   "source": [
    "def derivative_P(X, Y, p, i, r):\n",
    "    res = 0.0\n",
    "    for m in range(len(X)): # przechodzimy po filmach m\n",
    "        if E[m][r]==1:\n",
    "            if i ==0: # dla p0 bez mnożenia z X[m][i]\n",
    "                res += (calc_output(X[m], p) - Y[m][r])\n",
    "            else:\n",
    "                tmp = calc_output(X[m], p)\n",
    "                tmp2 = X[m][i-1]\n",
    "                res += (tmp - Y[m][r]) * tmp2\n",
    "    return res  # prawdopodobnie tu powinno być (1 / (len(X))) * res"
   ]
  },
  {
   "cell_type": "code",
   "execution_count": 85,
   "id": "bf2ea181",
   "metadata": {},
   "outputs": [],
   "source": [
    "def derivative_X(X, Y, p, i, m):\n",
    "    res = 0.0\n",
    "    for r in range(len(p)): # przechodzimy po osobach r\n",
    "        if E[m][r]==1:\n",
    "            res += (calc_output(X, p[r]) - Y[m][r]) * p[r][i+1]\n",
    "    return res  # prawdopodobnie tu powinno być (1 / (len(X))) * res"
   ]
  },
  {
   "cell_type": "code",
   "execution_count": 93,
   "id": "709ad660",
   "metadata": {},
   "outputs": [],
   "source": [
    "def calc_output(x, p):\n",
    "    summ = p[0]\n",
    "    for n in range(len(x)):\n",
    "        tmp = x[n]\n",
    "        summ = summ + tmp * p[n+1] # muszę mnożyć x0 z p1, x1 z p2 itp. bo p o 1 dłuższe niż x\n",
    "    return summ"
   ]
  },
  {
   "cell_type": "code",
   "execution_count": 95,
   "id": "3077eb91",
   "metadata": {},
   "outputs": [
    {
     "ename": "IndexError",
     "evalue": "list index out of range",
     "output_type": "error",
     "traceback": [
      "\u001b[1;31m---------------------------------------------------------------------------\u001b[0m",
      "\u001b[1;31mIndexError\u001b[0m                                Traceback (most recent call last)",
      "\u001b[1;32m<ipython-input-95-7cf6b8d77867>\u001b[0m in \u001b[0;36m<module>\u001b[1;34m\u001b[0m\n\u001b[1;32m----> 1\u001b[1;33m \u001b[0mmain_function\u001b[0m\u001b[1;33m(\u001b[0m\u001b[1;36m0.5\u001b[0m\u001b[1;33m,\u001b[0m \u001b[1;36m0.5\u001b[0m\u001b[1;33m,\u001b[0m \u001b[1;36m10\u001b[0m\u001b[1;33m)\u001b[0m\u001b[1;33m\u001b[0m\u001b[1;33m\u001b[0m\u001b[0m\n\u001b[0m",
      "\u001b[1;32m<ipython-input-76-6d1cd9fb7da5>\u001b[0m in \u001b[0;36mmain_function\u001b[1;34m(alfa, beta, num_of_epochs)\u001b[0m\n\u001b[0;32m      6\u001b[0m                     \u001b[1;32mfor\u001b[0m \u001b[0mn\u001b[0m \u001b[1;32min\u001b[0m \u001b[0mrange\u001b[0m\u001b[1;33m(\u001b[0m\u001b[0mlen\u001b[0m\u001b[1;33m(\u001b[0m\u001b[0mp\u001b[0m\u001b[1;33m)\u001b[0m\u001b[1;33m)\u001b[0m\u001b[1;33m:\u001b[0m\u001b[1;33m\u001b[0m\u001b[1;33m\u001b[0m\u001b[0m\n\u001b[0;32m      7\u001b[0m                         \u001b[1;31m# poprawiam naraz w jednej iteracji x i p\u001b[0m\u001b[1;33m\u001b[0m\u001b[1;33m\u001b[0m\u001b[1;33m\u001b[0m\u001b[0m\n\u001b[1;32m----> 8\u001b[1;33m                         \u001b[0mp\u001b[0m\u001b[1;33m[\u001b[0m\u001b[0mn\u001b[0m\u001b[1;33m]\u001b[0m \u001b[1;33m=\u001b[0m \u001b[0mp\u001b[0m\u001b[1;33m[\u001b[0m\u001b[0mn\u001b[0m\u001b[1;33m]\u001b[0m \u001b[1;33m-\u001b[0m \u001b[0malfa\u001b[0m \u001b[1;33m*\u001b[0m \u001b[0mderivative_P\u001b[0m\u001b[1;33m(\u001b[0m\u001b[0mX_INPUTS\u001b[0m\u001b[1;33m,\u001b[0m \u001b[0mY_RESULTS\u001b[0m\u001b[1;33m,\u001b[0m \u001b[0mp\u001b[0m\u001b[1;33m,\u001b[0m \u001b[0mn\u001b[0m\u001b[1;33m,\u001b[0m \u001b[0mr\u001b[0m\u001b[1;33m)\u001b[0m \u001b[1;31m# UWAGA parametrów jest n+1\u001b[0m\u001b[1;33m\u001b[0m\u001b[1;33m\u001b[0m\u001b[0m\n\u001b[0m\u001b[0;32m      9\u001b[0m                         \u001b[1;32mif\u001b[0m \u001b[0mn\u001b[0m \u001b[1;33m!=\u001b[0m \u001b[1;33m(\u001b[0m\u001b[0mlen\u001b[0m\u001b[1;33m(\u001b[0m\u001b[0mp\u001b[0m\u001b[1;33m)\u001b[0m\u001b[1;33m-\u001b[0m\u001b[1;36m1\u001b[0m\u001b[1;33m)\u001b[0m\u001b[1;33m:\u001b[0m \u001b[1;31m# p jest o 1 dłuższe niż x\u001b[0m\u001b[1;33m\u001b[0m\u001b[1;33m\u001b[0m\u001b[0m\n\u001b[0;32m     10\u001b[0m                             \u001b[0mx\u001b[0m\u001b[1;33m[\u001b[0m\u001b[0mn\u001b[0m\u001b[1;33m]\u001b[0m \u001b[1;33m=\u001b[0m \u001b[0mx\u001b[0m\u001b[1;33m[\u001b[0m\u001b[0mn\u001b[0m\u001b[1;33m]\u001b[0m \u001b[1;33m-\u001b[0m \u001b[0mbeta\u001b[0m \u001b[1;33m*\u001b[0m \u001b[0mderivative_X\u001b[0m\u001b[1;33m(\u001b[0m\u001b[0mx\u001b[0m\u001b[1;33m,\u001b[0m \u001b[0mY_RESULTS\u001b[0m\u001b[1;33m,\u001b[0m \u001b[0mPARAMS\u001b[0m\u001b[1;33m,\u001b[0m \u001b[0mn\u001b[0m\u001b[1;33m,\u001b[0m \u001b[0mm\u001b[0m\u001b[1;33m)\u001b[0m\u001b[1;33m\u001b[0m\u001b[1;33m\u001b[0m\u001b[0m\n",
      "\u001b[1;32m<ipython-input-89-3c832214344e>\u001b[0m in \u001b[0;36mderivative_P\u001b[1;34m(X, Y, p, i, r)\u001b[0m\n\u001b[0;32m      4\u001b[0m         \u001b[1;32mif\u001b[0m \u001b[0mE\u001b[0m\u001b[1;33m[\u001b[0m\u001b[0mm\u001b[0m\u001b[1;33m]\u001b[0m\u001b[1;33m[\u001b[0m\u001b[0mr\u001b[0m\u001b[1;33m]\u001b[0m\u001b[1;33m==\u001b[0m\u001b[1;36m1\u001b[0m\u001b[1;33m:\u001b[0m\u001b[1;33m\u001b[0m\u001b[1;33m\u001b[0m\u001b[0m\n\u001b[0;32m      5\u001b[0m             \u001b[1;32mif\u001b[0m \u001b[0mi\u001b[0m \u001b[1;33m==\u001b[0m\u001b[1;36m0\u001b[0m\u001b[1;33m:\u001b[0m \u001b[1;31m# dla p0 bez mnożenia z X[m][i]\u001b[0m\u001b[1;33m\u001b[0m\u001b[1;33m\u001b[0m\u001b[0m\n\u001b[1;32m----> 6\u001b[1;33m                 \u001b[0mres\u001b[0m \u001b[1;33m+=\u001b[0m \u001b[1;33m(\u001b[0m\u001b[0mcalc_output\u001b[0m\u001b[1;33m(\u001b[0m\u001b[0mX\u001b[0m\u001b[1;33m[\u001b[0m\u001b[0mm\u001b[0m\u001b[1;33m]\u001b[0m\u001b[1;33m,\u001b[0m \u001b[0mp\u001b[0m\u001b[1;33m)\u001b[0m \u001b[1;33m-\u001b[0m \u001b[0mY\u001b[0m\u001b[1;33m[\u001b[0m\u001b[0mm\u001b[0m\u001b[1;33m]\u001b[0m\u001b[1;33m[\u001b[0m\u001b[0mr\u001b[0m\u001b[1;33m]\u001b[0m\u001b[1;33m)\u001b[0m\u001b[1;33m\u001b[0m\u001b[1;33m\u001b[0m\u001b[0m\n\u001b[0m\u001b[0;32m      7\u001b[0m             \u001b[1;32melse\u001b[0m\u001b[1;33m:\u001b[0m\u001b[1;33m\u001b[0m\u001b[1;33m\u001b[0m\u001b[0m\n\u001b[0;32m      8\u001b[0m                 \u001b[0mtmp\u001b[0m \u001b[1;33m=\u001b[0m \u001b[0mcalc_output\u001b[0m\u001b[1;33m(\u001b[0m\u001b[0mX\u001b[0m\u001b[1;33m[\u001b[0m\u001b[0mm\u001b[0m\u001b[1;33m]\u001b[0m\u001b[1;33m,\u001b[0m \u001b[0mp\u001b[0m\u001b[1;33m)\u001b[0m\u001b[1;33m\u001b[0m\u001b[1;33m\u001b[0m\u001b[0m\n",
      "\u001b[1;32m<ipython-input-93-a51dfd5b2667>\u001b[0m in \u001b[0;36mcalc_output\u001b[1;34m(x, p)\u001b[0m\n\u001b[0;32m      3\u001b[0m     \u001b[1;32mfor\u001b[0m \u001b[0mn\u001b[0m \u001b[1;32min\u001b[0m \u001b[0mrange\u001b[0m\u001b[1;33m(\u001b[0m\u001b[0mlen\u001b[0m\u001b[1;33m(\u001b[0m\u001b[0mx\u001b[0m\u001b[1;33m)\u001b[0m\u001b[1;33m)\u001b[0m\u001b[1;33m:\u001b[0m\u001b[1;33m\u001b[0m\u001b[1;33m\u001b[0m\u001b[0m\n\u001b[0;32m      4\u001b[0m         \u001b[0mtmp\u001b[0m \u001b[1;33m=\u001b[0m \u001b[0mx\u001b[0m\u001b[1;33m[\u001b[0m\u001b[0mn\u001b[0m\u001b[1;33m]\u001b[0m\u001b[1;33m\u001b[0m\u001b[1;33m\u001b[0m\u001b[0m\n\u001b[1;32m----> 5\u001b[1;33m         \u001b[0msumm\u001b[0m \u001b[1;33m=\u001b[0m \u001b[0msumm\u001b[0m \u001b[1;33m+\u001b[0m \u001b[0mtmp\u001b[0m \u001b[1;33m*\u001b[0m \u001b[0mp\u001b[0m\u001b[1;33m[\u001b[0m\u001b[0mn\u001b[0m\u001b[1;33m+\u001b[0m\u001b[1;36m1\u001b[0m\u001b[1;33m]\u001b[0m \u001b[1;31m# muszę mnożyć x0 z p1, x1 z p2 itp. bo p o 1 dłuższe niż x\u001b[0m\u001b[1;33m\u001b[0m\u001b[1;33m\u001b[0m\u001b[0m\n\u001b[0m\u001b[0;32m      6\u001b[0m     \u001b[1;32mreturn\u001b[0m \u001b[0msumm\u001b[0m\u001b[1;33m\u001b[0m\u001b[1;33m\u001b[0m\u001b[0m\n",
      "\u001b[1;31mIndexError\u001b[0m: list index out of range"
     ]
    }
   ],
   "source": [
    "main_function(0.5, 0.5, 10)"
   ]
  },
  {
   "cell_type": "code",
   "execution_count": null,
   "id": "100ed7dd",
   "metadata": {},
   "outputs": [],
   "source": []
  }
 ],
 "metadata": {
  "kernelspec": {
   "display_name": "Python 3",
   "language": "python",
   "name": "python3"
  },
  "language_info": {
   "codemirror_mode": {
    "name": "ipython",
    "version": 3
   },
   "file_extension": ".py",
   "mimetype": "text/x-python",
   "name": "python",
   "nbconvert_exporter": "python",
   "pygments_lexer": "ipython3",
   "version": "3.8.8"
  }
 },
 "nbformat": 4,
 "nbformat_minor": 5
}
