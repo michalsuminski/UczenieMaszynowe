{
 "cells": [
  {
   "cell_type": "code",
   "execution_count": 3,
   "id": "bacf6926",
   "metadata": {},
   "outputs": [],
   "source": [
    "from fileToolbox import *\n",
    "from sklearn.ensemble import RandomForestClassifier\n",
    "from sklearn.metrics import accuracy_score\n",
    "from sklearn.preprocessing import MinMaxScaler\n",
    "from sklearn.model_selection import train_test_split, GridSearchCV"
   ]
  },
  {
   "cell_type": "code",
   "execution_count": 4,
   "id": "633a96bc",
   "metadata": {},
   "outputs": [],
   "source": [
    "def warn(*args, **kwargs):\n",
    "    pass\n",
    "\n",
    "\n",
    "import warnings\n",
    "\n",
    "warnings.warn = warn\n",
    "warnings.filterwarnings(\"ignore\", category=UserWarning)"
   ]
  },
  {
   "cell_type": "code",
   "execution_count": 5,
   "id": "4913b893",
   "metadata": {},
   "outputs": [],
   "source": [
    "set_of_person_ids = set(train_df[\"person_id\"])\n",
    "list_of_unique_person_ids = list(set_of_person_ids) # osoby to będą moje x"
   ]
  },
  {
   "cell_type": "code",
   "execution_count": 8,
   "id": "699fd0e0",
   "metadata": {},
   "outputs": [],
   "source": [
    "set_of_movie_ids = set(train_df[\"movie_id\"])\n",
    "list_of_unique_movie_ids = list(set_of_person_ids) # osoby to będą moje x"
   ]
  },
  {
   "cell_type": "code",
   "execution_count": 7,
   "id": "62ed6ad1",
   "metadata": {},
   "outputs": [],
   "source": [
    "tmp_p = set(task_df[\"person_id\"])\n",
    "tmp_m = set(task_df[\"movie_id\"])"
   ]
  },
  {
   "cell_type": "markdown",
   "id": "decbadf2",
   "metadata": {},
   "source": [
    "Sprawdzenie czy napewno wszystkie person_id i movie_id z taska występują w trainie"
   ]
  },
  {
   "cell_type": "code",
   "execution_count": 9,
   "id": "ac7c52e8",
   "metadata": {},
   "outputs": [],
   "source": [
    "for person in set_of_person_ids:\n",
    "    if person not in tmp_p:\n",
    "        print(person)"
   ]
  },
  {
   "cell_type": "code",
   "execution_count": 10,
   "id": "669ebf45",
   "metadata": {},
   "outputs": [],
   "source": [
    "for movie in set_of_movie_ids:\n",
    "    if movie not in tmp_m:\n",
    "        print(movie)"
   ]
  },
  {
   "cell_type": "markdown",
   "id": "0d42b432",
   "metadata": {},
   "source": [
    "Dla każdego filmu generuje n elementowy wektor cech"
   ]
  },
  {
   "cell_type": "code",
   "execution_count": 12,
   "id": "08b0e463",
   "metadata": {},
   "outputs": [],
   "source": [
    "N = 10 # to będzie hiperparametr"
   ]
  },
  {
   "cell_type": "code",
   "execution_count": 13,
   "id": "b90258f1",
   "metadata": {},
   "outputs": [],
   "source": [
    "M = len(set_of_movie_ids)\n",
    "R = len(set_of_person_ids)"
   ]
  },
  {
   "cell_type": "code",
   "execution_count": 16,
   "id": "a3cfcc29",
   "metadata": {},
   "outputs": [
    {
     "name": "stdout",
     "output_type": "stream",
     "text": [
      "200\n",
      "358\n"
     ]
    }
   ],
   "source": [
    "print(M)\n",
    "print(R)"
   ]
  },
  {
   "cell_type": "code",
   "execution_count": 14,
   "id": "29ac048f",
   "metadata": {},
   "outputs": [],
   "source": [
    "import random\n",
    "# losowa inicjalizacja list p - parametrów i x - wejść z przedziału <-1, 1>\n",
    "X_INPUTS = [[random.uniform(-1, 1) for j in range(N+1)] for i in range(M)] # parametrów jest n+1 bo stała\n",
    "PARAMS = [[random.uniform(-1, 1) for j in range(R)] for i in range(N)]"
   ]
  },
  {
   "cell_type": "code",
   "execution_count": 29,
   "id": "aed09947",
   "metadata": {},
   "outputs": [],
   "source": [
    "def isMovieRatedByPerson(movie, person):\n",
    "    df_person = filterDataFrame(\"person_id\", person, train_df)\n",
    "    list_of_movies = list(df_person[\"movie_id\"]))\n",
    "    if movie in list_of_movies:\n",
    "        return 1\n",
    "    else:\n",
    "        return 0"
   ]
  },
  {
   "cell_type": "code",
   "execution_count": 2,
   "id": "509bacdd",
   "metadata": {},
   "outputs": [],
   "source": [
    "# def main_function(p, x, y, alfa, beta, num_of_epochs): # alfa - współczynnik uczenia do P, beta - współczynnik uczenia do X\n",
    "#     for epoch in range(num_of_epochs):\n",
    "#         for r, p in enumerate(PARAMS):\n",
    "#             for m in range(len(movies)): # m - liczba filmów, p - parametry da r-tej ososby\n",
    "#                 for n in range(len(p)):\n",
    "#                     p[n] = p[n] - alfa * derivative_P(x[m], y, p, n) # poprawiam naraz w jednej iteracji x i p\n",
    "#                     x[m][n] = x[n] - beta * derivative_X(x[m], y, p, n)"
   ]
  },
  {
   "cell_type": "code",
   "execution_count": null,
   "id": "94b2d091",
   "metadata": {},
   "outputs": [],
   "source": [
    "def main_function(p, x, y, alfa, beta, num_of_epochs): # alfa - współczynnik uczenia do P, beta - współczynnik uczenia do X\n",
    "    for epoch in range(num_of_epochs):\n",
    "        for r, p in enumerate(PARAMS): # r - indeks osób\n",
    "            for m, x in enumerate(X_INPUTS): # m - indeks filmów\n",
    "                for n in range(len(p)):\n",
    "                    # poprawiam naraz w jednej iteracji x i p\n",
    "                    p[n] = p[n] - alfa * derivative_P(X_INPUTS, Y_RESULTS, p, n, r) # UWAGA parametrów jest n+1\n",
    "                    x[n] = x[n] - beta * derivative_X(x, Y_RESULTS, PARAMS, n, m)\n",
    "    print(Q(X_INPUTS, PARAMS, Y_RESULTS)) # błąd liczymy po całej przestrzeni"
   ]
  },
  {
   "cell_type": "code",
   "execution_count": 1,
   "id": "d6c08b76",
   "metadata": {},
   "outputs": [],
   "source": [
    "def Q(X, P, Y):\n",
    "    res = 0.0\n",
    "    for r, p in enumerate(P): # r - indeks osób\n",
    "            for m, x in enumerate(X):\n",
    "                res += (calc_output(x, p) - Y[r][m]) ** 2\n",
    "    return res / 2 "
   ]
  },
  {
   "cell_type": "code",
   "execution_count": 3,
   "id": "e3e792c3",
   "metadata": {},
   "outputs": [],
   "source": [
    "def derivative_P(X, Y, P, i, r):\n",
    "    res = 0.0\n",
    "    for m in range(len(X)): # przechodzimy po filmach m\n",
    "        if i ==0: # dla p0 bez mnożenia z X[m][i]\n",
    "            res += (calc_output(X[m], p) - Y[m][r])\n",
    "        else:\n",
    "            res += (calc_output(X[m], p) - Y[m][r]) * X[m][i]\n",
    "    return res  # prawdopodobnie tu powinno być (1 / (len(X))) * res"
   ]
  },
  {
   "cell_type": "code",
   "execution_count": null,
   "id": "302e659e",
   "metadata": {},
   "outputs": [],
   "source": [
    "def derivative_X(X, Y, p, i, m):\n",
    "    res = 0.0\n",
    "    for r in range(len(P)): # przechodzimy po osobach r\n",
    "        res += (calc_output(X, p[r]) - Y[m][r]) * p[r][i]\n",
    "    return res  # prawdopodobnie tu powinno być (1 / (len(X))) * res"
   ]
  },
  {
   "cell_type": "code",
   "execution_count": 4,
   "id": "b16bd0f7",
   "metadata": {},
   "outputs": [],
   "source": [
    "def calc_output(x, p):\n",
    "    summ = p[0]\n",
    "    for n in range(1, len(p)):\n",
    "        summ = summ + x[n] * p[n]\n",
    "    return summ"
   ]
  },
  {
   "cell_type": "code",
   "execution_count": null,
   "id": "257228de",
   "metadata": {},
   "outputs": [],
   "source": []
  }
 ],
 "metadata": {
  "kernelspec": {
   "display_name": "Python 3",
   "language": "python",
   "name": "python3"
  },
  "language_info": {
   "codemirror_mode": {
    "name": "ipython",
    "version": 3
   },
   "file_extension": ".py",
   "mimetype": "text/x-python",
   "name": "python",
   "nbconvert_exporter": "python",
   "pygments_lexer": "ipython3",
   "version": "3.8.8"
  }
 },
 "nbformat": 4,
 "nbformat_minor": 5
}
