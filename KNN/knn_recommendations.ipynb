{
 "cells": [
  {
   "cell_type": "code",
   "execution_count": 1,
   "id": "e02e89c5",
   "metadata": {},
   "outputs": [
    {
     "name": "stdout",
     "output_type": "stream",
     "text": [
      "{\n",
      "    \"adult\": false,\n",
      "    \"backdrop_path\": \"/xTS1qCmhzH3vq7cuextO5vQA6eW.jpg\",\n",
      "    \"belongs_to_collection\": {\n",
      "        \"id\": 645,\n",
      "        \"name\": \"James Bond Collection\",\n",
      "        \"poster_path\": \"/HORpg5CSkmeQlAolx3bKMrKgfi.jpg\",\n",
      "        \"backdrop_path\": \"/dOSECZImeyZldoq0ObieBE0lwie.jpg\"\n",
      "    },\n",
      "    \"budget\": 27500000,\n",
      "    \"genres\": [\n",
      "        {\n",
      "            \"id\": 12,\n",
      "            \"name\": \"Adventure\"\n",
      "        },\n",
      "        {\n",
      "            \"id\": 28,\n",
      "            \"name\": \"Action\"\n",
      "        },\n",
      "        {\n",
      "            \"id\": 53,\n",
      "            \"name\": \"Thriller\"\n",
      "        }\n",
      "    ],\n",
      "    \"homepage\": \"https://www.mgm.com/movies/octopussy\",\n",
      "    \"id\": 700,\n",
      "    \"imdb_id\": \"tt0086034\",\n",
      "    \"original_language\": \"en\",\n",
      "    \"original_title\": \"Octopussy\",\n",
      "    \"overview\": \"James Bond is sent to investigate after a fellow \\u201c00\\u201d agent is found dead with a priceless Indian Faberg\\u00e9 egg. Bond follows the mystery and uncovers a smuggling scandal and a Russian General who wants to provoke a new World War.\",\n",
      "    \"popularity\": 37.282,\n",
      "    \"poster_path\": \"/yoosZitM9igSk3Sd0sBXIhKlAh1.jpg\",\n",
      "    \"production_companies\": [\n",
      "        {\n",
      "            \"id\": 7576,\n",
      "            \"logo_path\": \"/oYcUi1byZ312Z3xiz5ojz9RQLND.png\",\n",
      "            \"name\": \"EON Productions\",\n",
      "            \"origin_country\": \"GB\"\n",
      "        }\n",
      "    ],\n",
      "    \"production_countries\": [\n",
      "        {\n",
      "            \"iso_3166_1\": \"GB\",\n",
      "            \"name\": \"United Kingdom\"\n",
      "        }\n",
      "    ],\n",
      "    \"release_date\": \"1983-06-05\",\n",
      "    \"revenue\": 187500000,\n",
      "    \"runtime\": 131,\n",
      "    \"spoken_languages\": [\n",
      "        {\n",
      "            \"english_name\": \"German\",\n",
      "            \"iso_639_1\": \"de\",\n",
      "            \"name\": \"Deutsch\"\n",
      "        },\n",
      "        {\n",
      "            \"english_name\": \"English\",\n",
      "            \"iso_639_1\": \"en\",\n",
      "            \"name\": \"English\"\n",
      "        },\n",
      "        {\n",
      "            \"english_name\": \"Russian\",\n",
      "            \"iso_639_1\": \"ru\",\n",
      "            \"name\": \"P\\u0443\\u0441\\u0441\\u043a\\u0438\\u0439\"\n",
      "        },\n",
      "        {\n",
      "            \"english_name\": \"Spanish\",\n",
      "            \"iso_639_1\": \"es\",\n",
      "            \"name\": \"Espa\\u00f1ol\"\n",
      "        }\n",
      "    ],\n",
      "    \"status\": \"Released\",\n",
      "    \"tagline\": \"James Bond's all time high.\",\n",
      "    \"title\": \"Octopussy\",\n",
      "    \"video\": false,\n",
      "    \"vote_average\": 6.321,\n",
      "    \"vote_count\": 1781\n",
      "}\n"
     ]
    }
   ],
   "source": [
    "import requests\n",
    "import json\n",
    "\n",
    "# Replace 'YOUR_API_KEY' with your actual API key\n",
    "api_key = '0f0efd0d5e4abc3ff33bee6ec8d94ced'\n",
    "base_url = 'https://api.themoviedb.org/3/'\n",
    "\n",
    "# Example: Fetch details of a movie with ID 550 (Inception)\n",
    "movie_id = 700\n",
    "endpoint = f'movie/{movie_id}?api_key={api_key}'\n",
    "\n",
    "response = requests.get(base_url + endpoint)\n",
    "movie_details = response.json()\n",
    "\n",
    "formatted_movie_details = json.dumps(movie_details, indent=4)\n",
    "print(formatted_movie_details)"
   ]
  },
  {
   "cell_type": "markdown",
   "id": "869ac2a7",
   "metadata": {},
   "source": [
    "Napewno odrzucamy wszytskie cechy, które zawierają ścieżki do jakichś plików typu logo, itp. a więc odpadają:\n",
    "- logo_path\n",
    "- poster_path\n",
    "- backdrop_path<br>\n",
    "Dodatkowo odrzucamy:\n",
    "- id\n",
    "- imdb_id\n",
    "- id w production_companies<br>"
   ]
  },
  {
   "cell_type": "markdown",
   "id": "c2170f7e",
   "metadata": {},
   "source": [
    "Uważam też, że nie potrzebne są do klasyfikacji rozdzielenie informacji o krajach na \"name\" i \"iso...\", dlatego z racji krótszej reprezentacji wszędzie, gdzie pojawi się kraj będe korzystał ze skróconego ticker'a iso, np. <br>\n",
    "\"production_countries\": [\n",
    "        {\n",
    "            \"iso_3166_1\": \"DE\",\n",
    "            \"name\": \"Germany\"\n",
    "        },\n",
    "        {\n",
    "            \"iso_3166_1\": \"US\",\n",
    "            \"name\": \"United States of America\"\n",
    "        }\n",
    "    ],<br>\n",
    "Przekształcam na zwykłą listę<br>\n",
    "\"production_countries\": [DE, US]"
   ]
  },
  {
   "cell_type": "markdown",
   "id": "be46e50a",
   "metadata": {},
   "source": [
    "\"production_company\" będzie uproszczone i będzie reprezentowane tylko przez \"id\" i \"origin_country\". \"id\" będzie podbijało miarę similarity, gdy będzie to samo \"production_company\", równie dobrze mogłobyć tu wzięte \"name\", ale z natury liczby łatwiej i szybciej się porównuje. Z belongs_to_collection weźmiemy tylko id, wartość porównania będzie 0-1, albo należą do tej samej kolekcji albo nie i nie ma to wpływu na klasyfikacje, nie ma sensu porównywać stringa."
   ]
  },
  {
   "cell_type": "markdown",
   "id": "f57cf4af",
   "metadata": {},
   "source": [
    "Bazując na powyższym należy stworzyć takie wektory cech dla każdego filmu w plikach. Dla czytelności stworzona zostanie klasa Movie"
   ]
  },
  {
   "cell_type": "code",
   "execution_count": 2,
   "id": "d9e1aadd",
   "metadata": {},
   "outputs": [],
   "source": [
    "movie_details = json.loads(formatted_movie_details)"
   ]
  },
  {
   "cell_type": "code",
   "execution_count": 3,
   "id": "84582152",
   "metadata": {},
   "outputs": [
    {
     "data": {
      "text/plain": [
       "False"
      ]
     },
     "execution_count": 3,
     "metadata": {},
     "output_type": "execute_result"
    }
   ],
   "source": [
    "movie_details[\"adult\"]"
   ]
  },
  {
   "cell_type": "code",
   "execution_count": 4,
   "id": "2430ce5d",
   "metadata": {},
   "outputs": [],
   "source": [
    "class Movie:\n",
    "    def __init__(self, adult, belongs_to_collection, budget, genres, original_language, original_title, overview, popularity, production_companies, production_countries, \n",
    "                 release_date, revenue, runtime, spoken_languages, status, tagline, title, video, vote_average, vote_count):\n",
    "        self.adult = adult\n",
    "        self.belongs_to_collection = belongs_to_collection\n",
    "        self.budget = budget\n",
    "        self.genres = genres\n",
    "        self.original_language = original_language\n",
    "        self.original_title = original_title\n",
    "        self.overview = overview\n",
    "        self.popularity = popularity\n",
    "        self.production_companies = production_companies\n",
    "        self.production_countries = production_countries\n",
    "        self.release_date = release_date\n",
    "        self.revenue = revenue\n",
    "        self.runtime = runtime\n",
    "        self.spoken_languages = spoken_languages\n",
    "        self.status = status\n",
    "        self.tagline = tagline\n",
    "        self.title = title\n",
    "        self.video = video\n",
    "        self.vote_average = vote_average\n",
    "        self.vote_count = vote_count\n",
    "    def __str__(self):\n",
    "        return (\"adult = \" + str(self.adult) + \"\\n\" + \"belongs_to_collection = \" + str(self.belongs_to_collection) + \"\\n\" + \"budget = \" + str(self.budget) + \"\\n\" +\n",
    "        \"genres = \" + str(self.genres) + \"\\n\" + \"original_language = \" + str(self.original_language) + \"\\n\" + \"original_title = \" + str(self.original_title) + \"\\n\" +\n",
    "        \"overview = \" + str(self.overview) + \"\\n\" + \"popularity = \" + str(self.popularity) + \"\\n\" + \"production_companies = \" + str(self.production_companies) + \"\\n\" +\n",
    "        \"production_countries = \" + str(self.production_countries) + \"\\n\" + \"release_date = \" + str(self.release_date) + \"\\n\" + \"revenue = \" + str(self.revenue) + \"\\n\" +\n",
    "        \"runtime = \" + str(self.runtime) + \"\\n\" + \"spoken_languages = \" + str(self.spoken_languages) + \"\\n\" + \"status = \" + str(self.status) + \"\\n\" +\n",
    "        \"tagline = \" + str(self.tagline) + \"\\n\" + \"title = \" + str(self.title) + \"\\n\" + \"video = \" + str(self.video) + \"\\n\" + \"vote_average = \" + str(self.vote_average) + \"\\n\" +\n",
    "        \"vote_count = \" + str(self.vote_count))"
   ]
  },
  {
   "cell_type": "code",
   "execution_count": 5,
   "id": "492e9556",
   "metadata": {},
   "outputs": [],
   "source": [
    "# ta funkcja przyjmuje movie jako json, zwraca listę tickerów państw, np. EN, US\n",
    "def productionCountriesConverter(movie):\n",
    "    result = []\n",
    "    for country in movie_details[\"production_countries\"]:\n",
    "        country_name = country[\"iso_3166_1\"]\n",
    "        result.append(country_name)\n",
    "    return result"
   ]
  },
  {
   "cell_type": "code",
   "execution_count": 6,
   "id": "f10d2881",
   "metadata": {},
   "outputs": [
    {
     "data": {
      "text/plain": [
       "['GB']"
      ]
     },
     "execution_count": 6,
     "metadata": {},
     "output_type": "execute_result"
    }
   ],
   "source": [
    "productionCountriesConverter(movie_details)"
   ]
  },
  {
   "cell_type": "code",
   "execution_count": 7,
   "id": "db750496",
   "metadata": {},
   "outputs": [],
   "source": [
    "# ta funkcja przyjmuje movie jako json, zwraca id kolekcji\n",
    "def bellongsToCollectionConverter(movie):\n",
    "    return movie_details[\"belongs_to_collection\"][\"id\"]"
   ]
  },
  {
   "cell_type": "code",
   "execution_count": 8,
   "id": "9f83e2c3",
   "metadata": {},
   "outputs": [
    {
     "data": {
      "text/plain": [
       "645"
      ]
     },
     "execution_count": 8,
     "metadata": {},
     "output_type": "execute_result"
    }
   ],
   "source": [
    "bellongsToCollectionConverter(movie_details)"
   ]
  },
  {
   "cell_type": "code",
   "execution_count": 9,
   "id": "de7bb543",
   "metadata": {},
   "outputs": [],
   "source": [
    "# ta funkcja przyjmuje movie jako json, zwraca listę tickerów państw, np. EN, US\n",
    "def spokenLanguagesConverter(movie):\n",
    "    result = []\n",
    "    for country in movie_details[\"spoken_languages\"]:\n",
    "        country_name = country[\"iso_639_1\"]\n",
    "        result.append(country_name)\n",
    "    return result"
   ]
  },
  {
   "cell_type": "code",
   "execution_count": 10,
   "id": "27ff60f8",
   "metadata": {},
   "outputs": [
    {
     "data": {
      "text/plain": [
       "['de', 'en', 'ru', 'es']"
      ]
     },
     "execution_count": 10,
     "metadata": {},
     "output_type": "execute_result"
    }
   ],
   "source": [
    "spokenLanguagesConverter(movie_details)"
   ]
  },
  {
   "cell_type": "code",
   "execution_count": 11,
   "id": "a7725dd3",
   "metadata": {},
   "outputs": [],
   "source": [
    "# ta funkcja przyjmuje movie jako json, zwraca listę list [name, origin_country]\n",
    "def productionCompaniesConverter(movie):\n",
    "    result = []\n",
    "    for company in movie_details[\"production_companies\"]:\n",
    "        comp = []\n",
    "        comp.append(company[\"name\"])\n",
    "        comp.append(company[\"origin_country\"])\n",
    "        result.append(comp)\n",
    "    return result"
   ]
  },
  {
   "cell_type": "code",
   "execution_count": 12,
   "id": "2b153f98",
   "metadata": {},
   "outputs": [
    {
     "data": {
      "text/plain": [
       "[['EON Productions', 'GB']]"
      ]
     },
     "execution_count": 12,
     "metadata": {},
     "output_type": "execute_result"
    }
   ],
   "source": [
    "productionCompaniesConverter(movie_details)"
   ]
  },
  {
   "cell_type": "code",
   "execution_count": 15,
   "id": "330af7f9",
   "metadata": {},
   "outputs": [],
   "source": [
    "# ta funkcja przyjmuje movie jako json, zwraca listę id gatunków\n",
    "def genresConverter(movie):\n",
    "    result = []\n",
    "    for genres in movie_details[\"genres\"]:\n",
    "        genre_name = genres[\"name\"] # ewentualnie można tu zmienić na nazwę\n",
    "        result.append(genre_name)\n",
    "    return result"
   ]
  },
  {
   "cell_type": "code",
   "execution_count": 16,
   "id": "79dc06a3",
   "metadata": {},
   "outputs": [
    {
     "data": {
      "text/plain": [
       "['Adventure', 'Action', 'Thriller']"
      ]
     },
     "execution_count": 16,
     "metadata": {},
     "output_type": "execute_result"
    }
   ],
   "source": [
    "genresConverter(movie_details)"
   ]
  },
  {
   "cell_type": "code",
   "execution_count": 17,
   "id": "7a28a0a4",
   "metadata": {},
   "outputs": [],
   "source": [
    "#przyjmuje movie jako json, zwraca obiekt z już przeformatowanymi wartościami\n",
    "def movieConverter(movie):\n",
    "    if movie[\"adult\"] == False:\n",
    "        adult = 0\n",
    "    else:\n",
    "        adult = 1\n",
    "    if movie[\"video\"] == False:\n",
    "        video = 0\n",
    "    else:\n",
    "        video = 1\n",
    "    return Movie(\n",
    "        adult,\n",
    "        bellongsToCollectionConverter(movie),\n",
    "        movie[\"budget\"],\n",
    "        genresConverter(movie),\n",
    "        movie[\"original_language\"],\n",
    "        movie[\"original_title\"],\n",
    "        movie[\"overview\"],\n",
    "        movie[\"popularity\"],\n",
    "        productionCompaniesConverter(movie),\n",
    "        productionCountriesConverter(movie),\n",
    "        movie[\"release_date\"],\n",
    "        movie[\"revenue\"],\n",
    "        movie[\"runtime\"],\n",
    "        spokenLanguagesConverter(movie),\n",
    "        movie[\"status\"],\n",
    "        movie[\"tagline\"],\n",
    "        movie[\"title\"],\n",
    "        video,\n",
    "        movie[\"vote_average\"],\n",
    "        movie[\"vote_count\"]\n",
    "    )"
   ]
  },
  {
   "cell_type": "code",
   "execution_count": 29,
   "id": "28afe5c2",
   "metadata": {},
   "outputs": [
    {
     "name": "stdout",
     "output_type": "stream",
     "text": [
      "adult = 0\n",
      "belongs_to_collection = 645\n",
      "budget = 27500000\n",
      "genres = ['Adventure', 'Action', 'Thriller']\n",
      "original_language = en\n",
      "original_title = Octopussy\n",
      "overview = James Bond is sent to investigate after a fellow “00” agent is found dead with a priceless Indian Fabergé egg. Bond follows the mystery and uncovers a smuggling scandal and a Russian General who wants to provoke a new World War.\n",
      "popularity = 37.282\n",
      "production_companies = [['EON Productions', 'GB']]\n",
      "production_countries = ['GB']\n",
      "release_date = 1983-06-05\n",
      "revenue = 187500000\n",
      "runtime = 131\n",
      "spoken_languages = ['de', 'en', 'ru', 'es']\n",
      "status = Released\n",
      "tagline = James Bond's all time high.\n",
      "title = Octopussy\n",
      "video = 0\n",
      "vote_average = 6.321\n",
      "vote_count = 1781\n"
     ]
    }
   ],
   "source": [
    "movieObject = movieConverter(movie_details)\n",
    "print(movieObject)"
   ]
  },
  {
   "cell_type": "code",
   "execution_count": 23,
   "id": "dc0a2615",
   "metadata": {},
   "outputs": [
    {
     "name": "stdout",
     "output_type": "stream",
     "text": [
      "<class 'dict'>\n"
     ]
    }
   ],
   "source": [
    "import json\n",
    "\n",
    "# Open the file and load the JSON data\n",
    "with open('genres.json', 'r', encoding='utf-8') as file:\n",
    "    genres = json.load(file)\n",
    "\n",
    "# Now 'data' contains the content of your JSON file\n",
    "print(type(genres))"
   ]
  },
  {
   "cell_type": "code",
   "execution_count": 24,
   "id": "e0df046c",
   "metadata": {},
   "outputs": [
    {
     "name": "stdout",
     "output_type": "stream",
     "text": [
      "{'index': 0, 'name': 'Action'}\n",
      "{'index': 1, 'name': 'Adventure'}\n",
      "{'index': 2, 'name': 'Animation'}\n",
      "{'index': 3, 'name': 'Comedy'}\n",
      "{'index': 4, 'name': 'Crime'}\n",
      "{'index': 5, 'name': 'Documentary'}\n",
      "{'index': 6, 'name': 'Drama'}\n",
      "{'index': 7, 'name': 'Family'}\n",
      "{'index': 8, 'name': 'Fantasy'}\n",
      "{'index': 9, 'name': 'History'}\n",
      "{'index': 10, 'name': 'Horror'}\n",
      "{'index': 11, 'name': 'Music'}\n",
      "{'index': 12, 'name': 'Mystery'}\n",
      "{'index': 13, 'name': 'Romance'}\n",
      "{'index': 14, 'name': 'Science Fiction'}\n",
      "{'index': 15, 'name': 'TV Movie'}\n",
      "{'index': 16, 'name': 'Thriller'}\n",
      "{'index': 17, 'name': 'War'}\n",
      "{'index': 18, 'name': 'Western'}\n"
     ]
    }
   ],
   "source": [
    "for elem in genres[\"genres\"]:\n",
    "    print(elem)"
   ]
  },
  {
   "cell_type": "code",
   "execution_count": 25,
   "id": "90b928a1",
   "metadata": {},
   "outputs": [],
   "source": [
    "GENRES = genres[\"genres\"]"
   ]
  },
  {
   "cell_type": "code",
   "execution_count": 37,
   "id": "5d4b537c",
   "metadata": {},
   "outputs": [],
   "source": [
    "# ta funkcja przyjmuje movie jako json, zwraca listę gatunków z 1 jak występował dany gatunek, 0 jak nie\n",
    "def genresFeatureVectorCreator(movie):\n",
    "    indexes = [] # lista do przechowywania indexów, który gatunek wystąpił\n",
    "    for genre in movie.genres:\n",
    "        for genreFromJson in GENRES:\n",
    "            if genre == genreFromJson[\"name\"]:\n",
    "                indexes.append(genreFromJson[\"index\"])\n",
    "    genre_feature_vector = []\n",
    "    for index in range(19): # bo 19 gqtunków\n",
    "        if index in indexes:\n",
    "            genre_feature_vector.append(1)\n",
    "        else:\n",
    "            genre_feature_vector.append(0)\n",
    "    return genre_feature_vector"
   ]
  },
  {
   "cell_type": "code",
   "execution_count": 38,
   "id": "9d34e0bd",
   "metadata": {},
   "outputs": [
    {
     "data": {
      "text/plain": [
       "[1, 1, 0, 0, 0, 0, 0, 0, 0, 0, 0, 0, 0, 0, 0, 0, 1, 0, 0]"
      ]
     },
     "execution_count": 38,
     "metadata": {},
     "output_type": "execute_result"
    }
   ],
   "source": [
    "genresFeatureVectorCreator(movieObject)"
   ]
  },
  {
   "cell_type": "code",
   "execution_count": null,
   "id": "19e6a2c1",
   "metadata": {},
   "outputs": [],
   "source": []
  }
 ],
 "metadata": {
  "kernelspec": {
   "display_name": "Python 3",
   "language": "python",
   "name": "python3"
  },
  "language_info": {
   "codemirror_mode": {
    "name": "ipython",
    "version": 3
   },
   "file_extension": ".py",
   "mimetype": "text/x-python",
   "name": "python",
   "nbconvert_exporter": "python",
   "pygments_lexer": "ipython3",
   "version": "3.8.8"
  }
 },
 "nbformat": 4,
 "nbformat_minor": 5
}
