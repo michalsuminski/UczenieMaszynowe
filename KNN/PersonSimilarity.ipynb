{
 "cells": [
  {
   "cell_type": "code",
   "execution_count": 1,
   "id": "75a894d0",
   "metadata": {},
   "outputs": [],
   "source": [
    "from fileToolbox import *"
   ]
  },
  {
   "cell_type": "code",
   "execution_count": 2,
   "id": "16627c00",
   "metadata": {},
   "outputs": [],
   "source": [
    "# przejść po wszystkich osobach i filmach, które ta osoba obejrzała\n",
    "# dla każdej osoby i k-tego filmu, który obejrzała - przejść po wszystkich pozostałych osobach i sprawdzić, które wystawiły taką samą ocenę\n",
    "# może zrobić słowniki, które będą zliczały punkty dla każdej z osób {person_id_1: punkty, person_id_2: punkty...} UWAGA: dla każdej osoby osobny słownik - 200 słowników\n",
    "# jak osoba dała taką samą ocene to +2pkt, jak różniącą się o 1 to + 1pkt, w innych przypadkach 0\n",
    "# i weźmiemy np. średnią ocenę z o-osób, które miały najwięcej punktów dla danej osoby"
   ]
  },
  {
   "cell_type": "code",
   "execution_count": 3,
   "id": "abe5ae37",
   "metadata": {},
   "outputs": [
    {
     "name": "stdout",
     "output_type": "stream",
     "text": [
      "358\n"
     ]
    }
   ],
   "source": [
    "set_of_person_ids = set(train_df[\"person_id\"])\n",
    "print(len(set_of_person_ids))"
   ]
  },
  {
   "cell_type": "code",
   "execution_count": 16,
   "id": "e9138bb7",
   "metadata": {},
   "outputs": [],
   "source": [
    "# tworzymy słownik dla każdej osoby z person_id i wewnętrznym słownikiem {person_id_1: punkty, person_id_2: punkty...}\n",
    "json_list = [] \n",
    "\n",
    "for person in set_of_person_ids:\n",
    "    person_dict = {}\n",
    "    for p in set_of_person_ids:\n",
    "        if p==person:\n",
    "            continue\n",
    "        person_dict[p] = 0 # inicjalizujemy punkty na 0\n",
    "    json_list.append({'person_id': person, \"points\" : person_dict})"
   ]
  },
  {
   "cell_type": "code",
   "execution_count": 17,
   "id": "df9b3422",
   "metadata": {},
   "outputs": [],
   "source": [
    "counter = 0\n",
    "for person in json_list:\n",
    "    person_df = filterDataFrame(\"person_id\", person['person_id'], train_df)\n",
    "    person_movies = getPersonMovies(person_df)\n",
    "    # dla każdego filmu, trzeba przejść po wszytskich osobach i zliczyć punkty\n",
    "    for movie in person_movies:\n",
    "        for p in person['points'].keys():\n",
    "            if movie in getPersonMovies(filterDataFrame(\"person_id\", p, train_df)):\n",
    "                rate_main_person = int(filterDataFrame(\"movie_id\", movie, person_df)['rate'])\n",
    "                rate_comparable_person = int(filterDataFrame(\"movie_id\", movie, filterDataFrame(\"person_id\", p, train_df))['rate'])\n",
    "                if rate_main_person == rate_comparable_person:\n",
    "                    points = 2\n",
    "                elif (rate_main_person-rate_comparable_person==1) or (rate_comparable_person-rate_main_person==1):\n",
    "                    points = 1\n",
    "                else:\n",
    "                    points = 0\n",
    "                person['points'][p] += points\n",
    "#                 print(\"Movie: \" + str(movie) + \"Rate person: \" + str(person['person_id']) + ' ' + str(rate_main_person) + ', rate comparable: ' + str(p) + ' ' + str(rate_comparable_person))\n",
    "    "
   ]
  },
  {
   "cell_type": "code",
   "execution_count": 18,
   "id": "ef900801",
   "metadata": {},
   "outputs": [],
   "source": [
    "# Convert the list to a JSON-formatted string\n",
    "json_data = json.dumps(json_list, indent=2)\n",
    "\n",
    "# Save the JSON data to a file\n",
    "with open('json/person_similarity.json', 'w') as file:\n",
    "    json.dump(json_list, file, indent=2)"
   ]
  },
  {
   "cell_type": "code",
   "execution_count": 21,
   "id": "cc8e92b1",
   "metadata": {},
   "outputs": [],
   "source": [
    "with open('json/person_similarity.json', 'r', encoding='utf-8') as file:\n",
    "    PERSON_SIMILARITY = json.load(file)"
   ]
  },
  {
   "cell_type": "code",
   "execution_count": 110,
   "id": "dc231048",
   "metadata": {},
   "outputs": [],
   "source": [
    "# k - parametr określający na ile najbardziej podobnych osób chcemy patrzeć\n",
    "def getMostSimilarPersonIDs(person_id, k):\n",
    "    for person in PERSON_SIMILARITY:\n",
    "        if person[\"person_id\"]==person_id:\n",
    "            points = person['points']\n",
    "            sorted_points = dict(sorted(points.items(), key=lambda item: item[1], reverse=True))\n",
    "            first_k_elements = dict(list(sorted_points.items())[:k])\n",
    "    return list(first_k_elements.keys())"
   ]
  },
  {
   "cell_type": "code",
   "execution_count": 44,
   "id": "282e5a82",
   "metadata": {},
   "outputs": [],
   "source": [
    "tmp = getMostSimilarPersonIDs(5,5)"
   ]
  },
  {
   "cell_type": "code",
   "execution_count": 95,
   "id": "24cd5bbb",
   "metadata": {},
   "outputs": [],
   "source": [
    "def getMeanFromSimilarPersonIDs(list_of_similar_person_ids, movie_id, df):\n",
    "    res = 0\n",
    "    rated = 0 # licznik do średniej, bo niektórych osób może nie być i by było +0 i by zakłamało wynik przy średniej\n",
    "    for person_id in list_of_similar_person_ids:\n",
    "        movies = filterDataFrame('person_id', int(person_id), df)\n",
    "        if movie_id in list(movies['movie_id']):\n",
    "            res += int(filterDataFrame('movie_id', movie_id, movies)['rate'])\n",
    "            rated += 1\n",
    "    return int(res / rated) # średnia z wyników"
   ]
  },
  {
   "cell_type": "code",
   "execution_count": 111,
   "id": "328bb22f",
   "metadata": {},
   "outputs": [],
   "source": [
    "def similarityClassifier(person_id, movie_id, k, df):\n",
    "    flag = True\n",
    "    while(flag):\n",
    "        list_of_similar_person_ids = getMostSimilarPersonIDs(person_id, k)\n",
    "        res = 0\n",
    "        rated = 0 # licznik do średniej, bo niektórych osób może nie być i by było +0 i by zakłamało wynik przy średniej\n",
    "        for person in list_of_similar_person_ids:\n",
    "            movies = filterDataFrame('person_id', int(person), df)\n",
    "            if movie_id in list(movies['movie_id']):\n",
    "                res += int(filterDataFrame('movie_id', movie_id, movies)['rate'])\n",
    "                rated += 1\n",
    "        if rated != 0: # jeśli znaleźliśmy chociaż jednego similara to koniec\n",
    "            flag=False\n",
    "        else:\n",
    "            k += 3 # zwiększamy zakres poszukiwań\n",
    "    return int(res / rated)"
   ]
  },
  {
   "cell_type": "code",
   "execution_count": 79,
   "id": "1f37a81e",
   "metadata": {},
   "outputs": [],
   "source": [
    "train_list = []\n",
    "for index, row in train_df.iterrows():\n",
    "#     print(index)\n",
    "#     train_list.append({'person_id' : int(row['person_id']), 'movie_id' : int(row['movie_id']), 'rate' : int(row['rate'])})\n",
    "    train_list.append([int(row['person_id']), int(row['movie_id']), int(row['rate'])])"
   ]
  },
  {
   "cell_type": "code",
   "execution_count": 80,
   "id": "5ed52901",
   "metadata": {},
   "outputs": [
    {
     "data": {
      "text/plain": [
       "[[1642, 137, 4], [1642, 1, 5], [1642, 136, 5], [1642, 2, 3], [1642, 139, 5]]"
      ]
     },
     "execution_count": 80,
     "metadata": {},
     "output_type": "execute_result"
    }
   ],
   "source": [
    "train_list[:5]"
   ]
  },
  {
   "cell_type": "code",
   "execution_count": 88,
   "id": "2875992f",
   "metadata": {},
   "outputs": [],
   "source": [
    "length = int(len(train_list)*0.2)"
   ]
  },
  {
   "cell_type": "code",
   "execution_count": 112,
   "id": "1ce2747e",
   "metadata": {},
   "outputs": [],
   "source": [
    "test = train_list[:length]"
   ]
  },
  {
   "cell_type": "code",
   "execution_count": 113,
   "id": "5c1f1e6d",
   "metadata": {},
   "outputs": [],
   "source": [
    "test_x = [elem[:2] for elem in test]\n",
    "test_y = [elem[2] for elem in test]"
   ]
  },
  {
   "cell_type": "code",
   "execution_count": null,
   "id": "a379c973",
   "metadata": {},
   "outputs": [],
   "source": [
    "k = 5\n",
    "results = []\n",
    "for index, elem in enumerate(test_x):\n",
    "    print(index)\n",
    "    results.append(similarityClassifier(elem[0], elem[1], k, train_df))"
   ]
  },
  {
   "cell_type": "code",
   "execution_count": 115,
   "id": "b8ae0350",
   "metadata": {},
   "outputs": [],
   "source": [
    "from sklearn.metrics import accuracy_score\n",
    "accuracy = accuracy_score(test_y, results)"
   ]
  },
  {
   "cell_type": "code",
   "execution_count": 118,
   "id": "66c33999",
   "metadata": {},
   "outputs": [
    {
     "data": {
      "text/plain": [
       "0.52"
      ]
     },
     "execution_count": 118,
     "metadata": {},
     "output_type": "execute_result"
    }
   ],
   "source": [
    "round(accuracy, 2)"
   ]
  },
  {
   "cell_type": "code",
   "execution_count": null,
   "id": "b0c8d5bf",
   "metadata": {},
   "outputs": [],
   "source": [
    "k = 10\n",
    "results = []\n",
    "for index, elem in enumerate(test_x):\n",
    "    results.append(similarityClassifier(elem[0], elem[1], k, train_df))"
   ]
  },
  {
   "cell_type": "code",
   "execution_count": 121,
   "id": "366630a3",
   "metadata": {},
   "outputs": [
    {
     "data": {
      "text/plain": [
       "0.43202979515828677"
      ]
     },
     "execution_count": 121,
     "metadata": {},
     "output_type": "execute_result"
    }
   ],
   "source": [
    "accuracy_score(test_y, results)"
   ]
  },
  {
   "cell_type": "code",
   "execution_count": 122,
   "id": "068ab48c",
   "metadata": {},
   "outputs": [],
   "source": [
    "k = 1\n",
    "results = []\n",
    "for index, elem in enumerate(test_x):\n",
    "    results.append(similarityClassifier(elem[0], elem[1], k, train_df))"
   ]
  },
  {
   "cell_type": "code",
   "execution_count": 123,
   "id": "5fb615e0",
   "metadata": {},
   "outputs": [
    {
     "data": {
      "text/plain": [
       "0.5921787709497207"
      ]
     },
     "execution_count": 123,
     "metadata": {},
     "output_type": "execute_result"
    }
   ],
   "source": [
    "accuracy_score(test_y, results)"
   ]
  },
  {
   "cell_type": "markdown",
   "id": "2a00db78",
   "metadata": {},
   "source": [
    "Czyli najlepiej brać statystycznie 1 similara do określania wyniku"
   ]
  },
  {
   "cell_type": "code",
   "execution_count": 124,
   "id": "436ea984",
   "metadata": {},
   "outputs": [],
   "source": [
    "COUNTER = 0\n",
    "def applySimilarityClassifier(row):\n",
    "    global COUNTER\n",
    "    print(COUNTER)\n",
    "    COUNTER += 1\n",
    "    movie_id = row['movie_id']\n",
    "    person_id = row['person_id']    \n",
    "    rate = similarityClassifier(person_id, movie_id, 1, train_df)\n",
    "    return rate"
   ]
  },
  {
   "cell_type": "code",
   "execution_count": null,
   "id": "9b5d1469",
   "metadata": {},
   "outputs": [],
   "source": [
    "# Apply the function to update the \"rate\" column\n",
    "task_df['rate'] = task_df.apply(applySimilarityClassifier, axis=1)"
   ]
  },
  {
   "cell_type": "code",
   "execution_count": 126,
   "id": "1e75a5f8",
   "metadata": {},
   "outputs": [],
   "source": [
    "task_df.to_csv('submission_similarity.csv', index=False)"
   ]
  },
  {
   "cell_type": "code",
   "execution_count": null,
   "id": "44fff066",
   "metadata": {},
   "outputs": [],
   "source": []
  }
 ],
 "metadata": {
  "kernelspec": {
   "display_name": "Python 3",
   "language": "python",
   "name": "python3"
  },
  "language_info": {
   "codemirror_mode": {
    "name": "ipython",
    "version": 3
   },
   "file_extension": ".py",
   "mimetype": "text/x-python",
   "name": "python",
   "nbconvert_exporter": "python",
   "pygments_lexer": "ipython3",
   "version": "3.8.8"
  }
 },
 "nbformat": 4,
 "nbformat_minor": 5
}
