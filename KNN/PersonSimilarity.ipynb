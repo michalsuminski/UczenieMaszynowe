{
 "cells": [
  {
   "cell_type": "code",
   "execution_count": 1,
   "id": "cc4c1db1",
   "metadata": {},
   "outputs": [],
   "source": [
    "from fileToolbox import *"
   ]
  },
  {
   "cell_type": "code",
   "execution_count": 2,
   "id": "10f7d09e",
   "metadata": {},
   "outputs": [],
   "source": [
    "# przejść po wszystkich osobach i filmach, które ta osoba obejrzała\n",
    "# dla każdej osoby i k-tego filmu, który obejrzała - przejść po wszystkich pozostałych osobach i sprawdzić, które wystawiły taką samą ocenę\n",
    "# może zrobić słowniki, które będą zliczały punkty dla każdej z osób {person_id_1: punkty, person_id_2: punkty...} UWAGA: dla każdej osoby osobny słownik - 200 słowników\n",
    "# jak osoba dała taką samą ocene to +2pkt, jak różniącą się o 1 to + 1pkt, w innych przypadkach 0\n",
    "# i weźmiemy np. średnią ocenę z o-osób, które miały najwięcej punktów dla danej osoby"
   ]
  },
  {
   "cell_type": "code",
   "execution_count": 3,
   "id": "b3f0bbc6",
   "metadata": {},
   "outputs": [
    {
     "name": "stdout",
     "output_type": "stream",
     "text": [
      "358\n"
     ]
    }
   ],
   "source": [
    "set_of_person_ids = set(train_df[\"person_id\"])\n",
    "print(len(set_of_person_ids))"
   ]
  },
  {
   "cell_type": "code",
   "execution_count": 16,
   "id": "0232fcb1",
   "metadata": {},
   "outputs": [],
   "source": [
    "# tworzymy słownik dla każdej osoby z person_id i wewnętrznym słownikiem {person_id_1: punkty, person_id_2: punkty...}\n",
    "json_list = [] \n",
    "\n",
    "for person in set_of_person_ids:\n",
    "    person_dict = {}\n",
    "    for p in set_of_person_ids:\n",
    "        if p==person:\n",
    "            continue\n",
    "        person_dict[p] = 0 # inicjalizujemy punkty na 0\n",
    "    json_list.append({'person_id': person, \"points\" : person_dict})"
   ]
  },
  {
   "cell_type": "code",
   "execution_count": null,
   "id": "81795546",
   "metadata": {},
   "outputs": [],
   "source": [
    "counter = 0\n",
    "for person in json_list:\n",
    "    person_df = filterDataFrame(\"person_id\", person['person_id'], train_df)\n",
    "    person_movies = getPersonMovies(person_df)\n",
    "    # dla każdego filmu, trzeba przejść po wszytskich osobach i zliczyć punkty\n",
    "    for movie in person_movies:\n",
    "        for p in person['points'].keys():\n",
    "            if movie in getPersonMovies(filterDataFrame(\"person_id\", p, train_df)):\n",
    "                rate_main_person = int(filterDataFrame(\"movie_id\", movie, person_df)['rate'])\n",
    "                rate_comparable_person = int(filterDataFrame(\"movie_id\", movie, filterDataFrame(\"person_id\", p, train_df))['rate'])\n",
    "                if rate_main_person == rate_comparable_person:\n",
    "                    points = 2\n",
    "                elif (rate_main_person-rate_comparable_person==1) or (rate_comparable_person-rate_main_person==1):\n",
    "                    points = 1\n",
    "                else:\n",
    "                    points = 0\n",
    "                person['points'][p] += points\n",
    "#                 print(\"Movie: \" + str(movie) + \"Rate person: \" + str(person['person_id']) + ' ' + str(rate_main_person) + ', rate comparable: ' + str(p) + ' ' + str(rate_comparable_person))\n",
    "    "
   ]
  },
  {
   "cell_type": "code",
   "execution_count": 15,
   "id": "00dc4ff2",
   "metadata": {},
   "outputs": [],
   "source": [
    "# Convert the list to a JSON-formatted string\n",
    "json_data = json.dumps(json_list, indent=2)\n",
    "\n",
    "# Save the JSON data to a file\n",
    "with open('json/tmp.json', 'w') as file:\n",
    "    json.dump(json_list, file, indent=2)"
   ]
  },
  {
   "cell_type": "code",
   "execution_count": null,
   "id": "3455a375",
   "metadata": {},
   "outputs": [],
   "source": []
  }
 ],
 "metadata": {
  "kernelspec": {
   "display_name": "Python 3",
   "language": "python",
   "name": "python3"
  },
  "language_info": {
   "codemirror_mode": {
    "name": "ipython",
    "version": 3
   },
   "file_extension": ".py",
   "mimetype": "text/x-python",
   "name": "python",
   "nbconvert_exporter": "python",
   "pygments_lexer": "ipython3",
   "version": "3.8.8"
  }
 },
 "nbformat": 4,
 "nbformat_minor": 5
}
