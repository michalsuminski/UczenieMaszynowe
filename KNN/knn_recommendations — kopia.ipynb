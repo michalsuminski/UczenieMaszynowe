{
 "cells": [
  {
   "cell_type": "code",
   "execution_count": null,
   "id": "2b6b43c2",
   "metadata": {},
   "outputs": [],
   "source": [
    "import json\n",
    "\n",
    "# Open the file and load the JSON data\n",
    "with open('movies/map.json', 'r', encoding='utf-8') as file:\n",
    "    details = json.load(file)\n",
    "\n",
    "# Now 'data' contains the content of your JSON file\n",
    "print(details[\"12\"])"
   ]
  },
  {
   "cell_type": "markdown",
   "id": "ab49c170",
   "metadata": {},
   "source": [
    "Napewno odrzucamy wszytskie cechy, które zawierają ścieżki do jakichś plików typu logo, itp. a więc odpadają:\n",
    "- logo_path\n",
    "- poster_path\n",
    "- backdrop_path<br>\n",
    "Dodatkowo odrzucamy:\n",
    "- id\n",
    "- imdb_id\n",
    "- id w production_companies<br>"
   ]
  },
  {
   "cell_type": "markdown",
   "id": "eaa8bf88",
   "metadata": {},
   "source": [
    "Uważam też, że nie potrzebne są do klasyfikacji rozdzielenie informacji o krajach na \"name\" i \"iso...\", dlatego z racji krótszej reprezentacji wszędzie, gdzie pojawi się kraj będe korzystał ze skróconego ticker'a iso, np. <br>\n",
    "\"production_countries\": [\n",
    "        {\n",
    "            \"iso_3166_1\": \"DE\",\n",
    "            \"name\": \"Germany\"\n",
    "        },\n",
    "        {\n",
    "            \"iso_3166_1\": \"US\",\n",
    "            \"name\": \"United States of America\"\n",
    "        }\n",
    "    ],<br>\n",
    "Przekształcam na zwykłą listę<br>\n",
    "\"production_countries\": [DE, US]"
   ]
  },
  {
   "cell_type": "markdown",
   "id": "5339dcda",
   "metadata": {},
   "source": [
    "\"production_company\" będzie uproszczone i będzie reprezentowane tylko przez \"id\" i \"origin_country\". \"id\" będzie podbijało miarę similarity, gdy będzie to samo \"production_company\", równie dobrze mogłobyć tu wzięte \"name\", ale z natury liczby łatwiej i szybciej się porównuje. Z belongs_to_collection weźmiemy tylko id, wartość porównania będzie 0-1, albo należą do tej samej kolekcji albo nie i nie ma to wpływu na klasyfikacje, nie ma sensu porównywać stringa."
   ]
  },
  {
   "cell_type": "markdown",
   "id": "8889b01b",
   "metadata": {},
   "source": [
    "Bazując na powyższym należy stworzyć takie wektory cech dla każdego filmu w plikach. Dla czytelności stworzona zostanie klasa Movie"
   ]
  },
  {
   "cell_type": "code",
   "execution_count": 2,
   "id": "b183eead",
   "metadata": {},
   "outputs": [],
   "source": [
    "movie_details = json.loads(formatted_movie_details)"
   ]
  },
  {
   "cell_type": "code",
   "execution_count": 3,
   "id": "afa3a26c",
   "metadata": {},
   "outputs": [
    {
     "data": {
      "text/plain": [
       "False"
      ]
     },
     "execution_count": 3,
     "metadata": {},
     "output_type": "execute_result"
    }
   ],
   "source": [
    "movie_details[\"adult\"]"
   ]
  },
  {
   "cell_type": "code",
   "execution_count": 4,
   "id": "258a01e0",
   "metadata": {},
   "outputs": [],
   "source": [
    "class Movie:\n",
    "    def __init__(self, adult, belongs_to_collection, budget, cast, director, genres, original_language, original_title, overview, popularity, production_companies, production_countries, \n",
    "                 release_date, revenue, runtime, spoken_languages, status, tagline, title, video, vote_average, vote_count):\n",
    "        self.adult = adult\n",
    "        self.belongs_to_collection = belongs_to_collection\n",
    "        self.budget = budget\n",
    "        self.cast = cast\n",
    "        self.director = director\n",
    "        self.genres = genres\n",
    "        self.original_language = original_language\n",
    "        self.original_title = original_title\n",
    "        self.overview = overview\n",
    "        self.popularity = popularity\n",
    "        self.production_companies = production_companies\n",
    "        self.production_countries = production_countries\n",
    "        self.release_date = release_date\n",
    "        self.revenue = revenue\n",
    "        self.runtime = runtime\n",
    "        self.spoken_languages = spoken_languages\n",
    "        self.status = status\n",
    "        self.tagline = tagline\n",
    "        self.title = title\n",
    "        self.video = video\n",
    "        self.vote_average = vote_average\n",
    "        self.vote_count = vote_count\n",
    "    def __str__(self):\n",
    "        return (\"adult = \" + str(self.adult) + \"\\n\" + \"belongs_to_collection = \" + str(self.belongs_to_collection) + \"\\n\" + \"budget = \" + str(self.budget) + \"\\n\" +\n",
    "        \"cast = \" + str(self.cast) + \"\\n\" + \"director = \" + str(self.director) + \"\\n\" +\n",
    "        \"genres = \" + str(self.genres) + \"\\n\" + \"original_language = \" + str(self.original_language) + \"\\n\" + \"original_title = \" + str(self.original_title) + \"\\n\" +\n",
    "        \"overview = \" + str(self.overview) + \"\\n\" + \"popularity = \" + str(self.popularity) + \"\\n\" + \"production_companies = \" + str(self.production_companies) + \"\\n\" +\n",
    "        \"production_countries = \" + str(self.production_countries) + \"\\n\" + \"release_date = \" + str(self.release_date) + \"\\n\" + \"revenue = \" + str(self.revenue) + \"\\n\" +\n",
    "        \"runtime = \" + str(self.runtime) + \"\\n\" + \"spoken_languages = \" + str(self.spoken_languages) + \"\\n\" + \"status = \" + str(self.status) + \"\\n\" +\n",
    "        \"tagline = \" + str(self.tagline) + \"\\n\" + \"title = \" + str(self.title) + \"\\n\" + \"video = \" + str(self.video) + \"\\n\" + \"vote_average = \" + str(self.vote_average) + \"\\n\" +\n",
    "        \"vote_count = \" + str(self.vote_count))"
   ]
  },
  {
   "cell_type": "code",
   "execution_count": 17,
   "id": "a774edab",
   "metadata": {},
   "outputs": [],
   "source": [
    "def getCast(movie):\n",
    "    list_of_actors = []\n",
    "    for actor in movie[\"credits\"][\"cast\"]:\n",
    "        list_of_actors.append(actor[\"name\"]) \n",
    "    return list_of_actors"
   ]
  },
  {
   "cell_type": "code",
   "execution_count": 18,
   "id": "a3256077",
   "metadata": {},
   "outputs": [
    {
     "data": {
      "text/plain": [
       "['Albert Brooks',\n",
       " 'Ellen DeGeneres',\n",
       " 'Alexander Gould',\n",
       " 'Willem Dafoe',\n",
       " 'Geoffrey Rush',\n",
       " 'Brad Garrett',\n",
       " 'Allison Janney',\n",
       " 'Austin Pendleton',\n",
       " 'Stephen Root',\n",
       " 'Vicki Lewis']"
      ]
     },
     "execution_count": 18,
     "metadata": {},
     "output_type": "execute_result"
    }
   ],
   "source": [
    "getCast(details[\"12\"])"
   ]
  },
  {
   "cell_type": "code",
   "execution_count": 5,
   "id": "d132b97b",
   "metadata": {},
   "outputs": [],
   "source": [
    "# ta funkcja przyjmuje movie jako json, zwraca listę tickerów państw, np. EN, US\n",
    "def productionCountriesConverter(movie):\n",
    "    result = []\n",
    "    for country in movie_details[\"production_countries\"]:\n",
    "        country_name = country[\"iso_3166_1\"]\n",
    "        result.append(country_name)\n",
    "    return result"
   ]
  },
  {
   "cell_type": "code",
   "execution_count": 6,
   "id": "2da84265",
   "metadata": {},
   "outputs": [
    {
     "data": {
      "text/plain": [
       "['GB']"
      ]
     },
     "execution_count": 6,
     "metadata": {},
     "output_type": "execute_result"
    }
   ],
   "source": [
    "productionCountriesConverter(movie_details)"
   ]
  },
  {
   "cell_type": "code",
   "execution_count": 7,
   "id": "dd571d68",
   "metadata": {},
   "outputs": [],
   "source": [
    "# ta funkcja przyjmuje movie jako json, zwraca id kolekcji\n",
    "def bellongsToCollectionConverter(movie):\n",
    "    return movie_details[\"belongs_to_collection\"][\"id\"]"
   ]
  },
  {
   "cell_type": "code",
   "execution_count": 8,
   "id": "213d8658",
   "metadata": {},
   "outputs": [
    {
     "data": {
      "text/plain": [
       "645"
      ]
     },
     "execution_count": 8,
     "metadata": {},
     "output_type": "execute_result"
    }
   ],
   "source": [
    "bellongsToCollectionConverter(movie_details)"
   ]
  },
  {
   "cell_type": "code",
   "execution_count": 9,
   "id": "96bb109d",
   "metadata": {},
   "outputs": [],
   "source": [
    "# ta funkcja przyjmuje movie jako json, zwraca listę tickerów państw, np. EN, US\n",
    "def spokenLanguagesConverter(movie):\n",
    "    result = []\n",
    "    for country in movie_details[\"spoken_languages\"]:\n",
    "        country_name = country[\"iso_639_1\"]\n",
    "        result.append(country_name)\n",
    "    return result"
   ]
  },
  {
   "cell_type": "code",
   "execution_count": 10,
   "id": "f256c9b3",
   "metadata": {},
   "outputs": [
    {
     "data": {
      "text/plain": [
       "['de', 'en', 'ru', 'es']"
      ]
     },
     "execution_count": 10,
     "metadata": {},
     "output_type": "execute_result"
    }
   ],
   "source": [
    "spokenLanguagesConverter(movie_details)"
   ]
  },
  {
   "cell_type": "code",
   "execution_count": 11,
   "id": "c47fc232",
   "metadata": {},
   "outputs": [],
   "source": [
    "# ta funkcja przyjmuje movie jako json, zwraca listę list [name, origin_country]\n",
    "def productionCompaniesConverter(movie):\n",
    "    result = []\n",
    "    for company in movie_details[\"production_companies\"]:\n",
    "        comp = []\n",
    "        comp.append(company[\"name\"])\n",
    "        comp.append(company[\"origin_country\"])\n",
    "        result.append(comp)\n",
    "    return result"
   ]
  },
  {
   "cell_type": "code",
   "execution_count": 12,
   "id": "bce9817f",
   "metadata": {},
   "outputs": [
    {
     "data": {
      "text/plain": [
       "[['EON Productions', 'GB']]"
      ]
     },
     "execution_count": 12,
     "metadata": {},
     "output_type": "execute_result"
    }
   ],
   "source": [
    "productionCompaniesConverter(movie_details)"
   ]
  },
  {
   "cell_type": "code",
   "execution_count": 17,
   "id": "c8631f15",
   "metadata": {},
   "outputs": [],
   "source": [
    "#przyjmuje movie jako json, zwraca obiekt z już przeformatowanymi wartościami\n",
    "def movieConverter(movie):\n",
    "    if movie[\"adult\"] == False:\n",
    "        adult = 0\n",
    "    else:\n",
    "        adult = 1\n",
    "    if movie[\"video\"] == False:\n",
    "        video = 0\n",
    "    else:\n",
    "        video = 1\n",
    "    return Movie(\n",
    "        adult,\n",
    "        bellongsToCollectionConverter(movie),\n",
    "        movie[\"budget\"],\n",
    "        genresConverter(movie),\n",
    "        movie[\"original_language\"],\n",
    "        movie[\"original_title\"],\n",
    "        movie[\"overview\"],\n",
    "        movie[\"popularity\"],\n",
    "        productionCompaniesConverter(movie),\n",
    "        productionCountriesConverter(movie),\n",
    "        movie[\"release_date\"],\n",
    "        movie[\"revenue\"],\n",
    "        movie[\"runtime\"],\n",
    "        spokenLanguagesConverter(movie),\n",
    "        movie[\"status\"],\n",
    "        movie[\"tagline\"],\n",
    "        movie[\"title\"],\n",
    "        video,\n",
    "        movie[\"vote_average\"],\n",
    "        movie[\"vote_count\"]\n",
    "    )"
   ]
  },
  {
   "cell_type": "code",
   "execution_count": 29,
   "id": "6e0ca52a",
   "metadata": {},
   "outputs": [
    {
     "name": "stdout",
     "output_type": "stream",
     "text": [
      "adult = 0\n",
      "belongs_to_collection = 645\n",
      "budget = 27500000\n",
      "genres = ['Adventure', 'Action', 'Thriller']\n",
      "original_language = en\n",
      "original_title = Octopussy\n",
      "overview = James Bond is sent to investigate after a fellow “00” agent is found dead with a priceless Indian Fabergé egg. Bond follows the mystery and uncovers a smuggling scandal and a Russian General who wants to provoke a new World War.\n",
      "popularity = 37.282\n",
      "production_companies = [['EON Productions', 'GB']]\n",
      "production_countries = ['GB']\n",
      "release_date = 1983-06-05\n",
      "revenue = 187500000\n",
      "runtime = 131\n",
      "spoken_languages = ['de', 'en', 'ru', 'es']\n",
      "status = Released\n",
      "tagline = James Bond's all time high.\n",
      "title = Octopussy\n",
      "video = 0\n",
      "vote_average = 6.321\n",
      "vote_count = 1781\n"
     ]
    }
   ],
   "source": [
    "movieObject = movieConverter(movie_details)\n",
    "print(movieObject)"
   ]
  },
  {
   "cell_type": "code",
   "execution_count": 19,
   "id": "35c1670e",
   "metadata": {},
   "outputs": [
    {
     "name": "stdout",
     "output_type": "stream",
     "text": [
      "<class 'dict'>\n"
     ]
    }
   ],
   "source": [
    "import json\n",
    "\n",
    "# Open the file and load the JSON data\n",
    "with open('genres.json', 'r', encoding='utf-8') as file:\n",
    "    genres = json.load(file)\n",
    "\n",
    "# Now 'data' contains the content of your JSON file\n",
    "print(type(genres))"
   ]
  },
  {
   "cell_type": "code",
   "execution_count": 20,
   "id": "7d701e06",
   "metadata": {},
   "outputs": [
    {
     "name": "stdout",
     "output_type": "stream",
     "text": [
      "{'index': 0, 'name': 'Action'}\n",
      "{'index': 1, 'name': 'Adventure'}\n",
      "{'index': 2, 'name': 'Animation'}\n",
      "{'index': 3, 'name': 'Comedy'}\n",
      "{'index': 4, 'name': 'Crime'}\n",
      "{'index': 5, 'name': 'Documentary'}\n",
      "{'index': 6, 'name': 'Drama'}\n",
      "{'index': 7, 'name': 'Family'}\n",
      "{'index': 8, 'name': 'Fantasy'}\n",
      "{'index': 9, 'name': 'History'}\n",
      "{'index': 10, 'name': 'Horror'}\n",
      "{'index': 11, 'name': 'Music'}\n",
      "{'index': 12, 'name': 'Mystery'}\n",
      "{'index': 13, 'name': 'Romance'}\n",
      "{'index': 14, 'name': 'Science Fiction'}\n",
      "{'index': 15, 'name': 'TV Movie'}\n",
      "{'index': 16, 'name': 'Thriller'}\n",
      "{'index': 17, 'name': 'War'}\n",
      "{'index': 18, 'name': 'Western'}\n"
     ]
    }
   ],
   "source": [
    "for elem in genres[\"genres\"]:\n",
    "    print(elem)"
   ]
  },
  {
   "cell_type": "code",
   "execution_count": 21,
   "id": "0817bcd1",
   "metadata": {},
   "outputs": [],
   "source": [
    "GENRES = genres[\"genres\"]"
   ]
  },
  {
   "cell_type": "code",
   "execution_count": 25,
   "id": "b647787f",
   "metadata": {},
   "outputs": [],
   "source": [
    "# ta funkcja przyjmuje movie jako json, zwraca listę gatunków z 1 jak występował dany gatunek, 0 jak nie\n",
    "def genresFeatureVectorCreator(movie):\n",
    "    indexes = [] # lista do przechowywania indexów, który gatunek wystąpił\n",
    "    for genre in movie[\"genres\"]:\n",
    "        for genreFromJson in GENRES:\n",
    "            if genre[\"name\"] == genreFromJson[\"name\"]:\n",
    "                indexes.append(genreFromJson[\"index\"])\n",
    "    genre_feature_vector = []\n",
    "    for index in range(19): # bo 19 gqtunków\n",
    "        if index in indexes:\n",
    "            genre_feature_vector.append(1)\n",
    "        else:\n",
    "            genre_feature_vector.append(0)\n",
    "    return genre_feature_vector"
   ]
  },
  {
   "cell_type": "code",
   "execution_count": 26,
   "id": "cf11ef70",
   "metadata": {},
   "outputs": [
    {
     "data": {
      "text/plain": [
       "[0, 0, 1, 0, 0, 0, 0, 1, 0, 0, 0, 0, 0, 0, 0, 0, 0, 0, 0]"
      ]
     },
     "execution_count": 26,
     "metadata": {},
     "output_type": "execute_result"
    }
   ],
   "source": [
    "genresFeatureVectorCreator(details[\"12\"])"
   ]
  },
  {
   "cell_type": "code",
   "execution_count": 27,
   "id": "323874ba",
   "metadata": {},
   "outputs": [],
   "source": [
    "import json\n",
    "\n",
    "# Open the file and load the JSON data\n",
    "with open('actors.json', 'r', encoding='utf-8') as file:\n",
    "    actors = json.load(file)"
   ]
  },
  {
   "cell_type": "code",
   "execution_count": 33,
   "id": "5dedc7ca",
   "metadata": {},
   "outputs": [],
   "source": [
    "ACTORS = actors"
   ]
  },
  {
   "cell_type": "code",
   "execution_count": 38,
   "id": "f4dfe586",
   "metadata": {},
   "outputs": [],
   "source": [
    "# ta funkcja przyjmuje movie jako json, zwraca listę aktorów z 1 jak występował dany aktor, 0 jak nie\n",
    "def actorsFeatureVectorCreator(movie):\n",
    "    indexes = [] # lista do przechowywania indexów, który aktor wystąpił\n",
    "    for actor in getCast(movie):\n",
    "        for actorFromJson in ACTORS:\n",
    "            if actor == actorFromJson[\"name\"]:\n",
    "                indexes.append(actorFromJson[\"index\"])\n",
    "    actor_feature_vector = []\n",
    "    for index in range(1664): # bo jest 1664 aktorów\n",
    "        if index in indexes:\n",
    "            actor_feature_vector.append(1)\n",
    "        else:\n",
    "            actor_feature_vector.append(0)\n",
    "    return actor_feature_vector"
   ]
  },
  {
   "cell_type": "code",
   "execution_count": 40,
   "id": "6f2803a7",
   "metadata": {},
   "outputs": [],
   "source": [
    "actorsFeatureVector = actorsFeatureVectorCreator(details[\"12\"])"
   ]
  },
  {
   "cell_type": "code",
   "execution_count": 48,
   "id": "3a211ebc",
   "metadata": {},
   "outputs": [],
   "source": [
    "def getDirector(movie):\n",
    "    for elem in movie[\"credits\"][\"crew\"]:\n",
    "        if elem[\"job\"] == \"Director\":\n",
    "            return elem[\"name\"]"
   ]
  },
  {
   "cell_type": "code",
   "execution_count": 49,
   "id": "0426ae0b",
   "metadata": {},
   "outputs": [
    {
     "data": {
      "text/plain": [
       "'Andrew Stanton'"
      ]
     },
     "execution_count": 49,
     "metadata": {},
     "output_type": "execute_result"
    }
   ],
   "source": [
    "getDirector(details[\"12\"])"
   ]
  },
  {
   "cell_type": "code",
   "execution_count": 45,
   "id": "fced2ac8",
   "metadata": {},
   "outputs": [],
   "source": [
    "# Open the file and load the JSON data\n",
    "with open('directors.json', 'r', encoding='utf-8') as file:\n",
    "    DIRECTORS = json.load(file)"
   ]
  },
  {
   "cell_type": "code",
   "execution_count": 50,
   "id": "50a02479",
   "metadata": {},
   "outputs": [],
   "source": [
    "# ta funkcja przyjmuje movie jako json, zwraca listę reżyserów z 1 jak występował dany aktor, 0 jak nie\n",
    "def directorsFeatureVectorCreator(movie):\n",
    "    indexes = [] # lista do przechowywania indexów, który reżyser wystąpił\n",
    "    for directorFromJson in DIRECTORS:\n",
    "        if getDirector(movie) == directorFromJson[\"name\"]:\n",
    "            indexes.append(directorFromJson[\"index\"])\n",
    "    director_feature_vector = []\n",
    "    for index in range(61): # bo jest 61 reżyserów\n",
    "        if index in indexes:\n",
    "            director_feature_vector.append(1)\n",
    "        else:\n",
    "            director_feature_vector.append(0)\n",
    "    return director_feature_vector"
   ]
  },
  {
   "cell_type": "code",
   "execution_count": 51,
   "id": "3cc61001",
   "metadata": {},
   "outputs": [
    {
     "data": {
      "text/plain": [
       "[0,\n",
       " 0,\n",
       " 0,\n",
       " 1,\n",
       " 0,\n",
       " 0,\n",
       " 0,\n",
       " 0,\n",
       " 0,\n",
       " 0,\n",
       " 0,\n",
       " 0,\n",
       " 0,\n",
       " 0,\n",
       " 0,\n",
       " 0,\n",
       " 0,\n",
       " 0,\n",
       " 0,\n",
       " 0,\n",
       " 0,\n",
       " 0,\n",
       " 0,\n",
       " 0,\n",
       " 0,\n",
       " 0,\n",
       " 0,\n",
       " 0,\n",
       " 0,\n",
       " 0,\n",
       " 0,\n",
       " 0,\n",
       " 0,\n",
       " 0,\n",
       " 0,\n",
       " 0,\n",
       " 0,\n",
       " 0,\n",
       " 0,\n",
       " 0,\n",
       " 0,\n",
       " 0,\n",
       " 0,\n",
       " 0,\n",
       " 0,\n",
       " 0,\n",
       " 0,\n",
       " 0,\n",
       " 0,\n",
       " 0,\n",
       " 0,\n",
       " 0,\n",
       " 0,\n",
       " 0,\n",
       " 0,\n",
       " 0,\n",
       " 0,\n",
       " 0,\n",
       " 0,\n",
       " 0,\n",
       " 0]"
      ]
     },
     "execution_count": 51,
     "metadata": {},
     "output_type": "execute_result"
    }
   ],
   "source": [
    "directorsFeatureVectorCreator(details[\"12\"])"
   ]
  },
  {
   "cell_type": "code",
   "execution_count": null,
   "id": "7d4dd1ed",
   "metadata": {},
   "outputs": [],
   "source": []
  }
 ],
 "metadata": {
  "kernelspec": {
   "display_name": "Python 3",
   "language": "python",
   "name": "python3"
  },
  "language_info": {
   "codemirror_mode": {
    "name": "ipython",
    "version": 3
   },
   "file_extension": ".py",
   "mimetype": "text/x-python",
   "name": "python",
   "nbconvert_exporter": "python",
   "pygments_lexer": "ipython3",
   "version": "3.8.8"
  }
 },
 "nbformat": 4,
 "nbformat_minor": 5
}
