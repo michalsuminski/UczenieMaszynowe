{
 "cells": [
  {
   "cell_type": "code",
   "execution_count": 1,
   "id": "c6faefcd",
   "metadata": {},
   "outputs": [],
   "source": [
    "from fileToolbox import *\n",
    "from sklearn.ensemble import RandomForestClassifier\n",
    "from sklearn.metrics import accuracy_score\n",
    "from sklearn.preprocessing import MinMaxScaler\n",
    "from sklearn.model_selection import train_test_split, GridSearchCV"
   ]
  },
  {
   "cell_type": "code",
   "execution_count": 2,
   "id": "e834ea1b",
   "metadata": {},
   "outputs": [],
   "source": [
    "def warn(*args, **kwargs):\n",
    "    pass\n",
    "\n",
    "\n",
    "import warnings\n",
    "\n",
    "warnings.warn = warn\n",
    "warnings.filterwarnings(\"ignore\", category=UserWarning)"
   ]
  },
  {
   "cell_type": "code",
   "execution_count": 3,
   "id": "c7d55f8b",
   "metadata": {},
   "outputs": [],
   "source": [
    "set_of_person_ids = set(train_df[\"person_id\"])\n",
    "list_of_unique_person_ids = list(set_of_person_ids) # osoby to będą moje x\n"
   ]
  },
  {
   "cell_type": "code",
   "execution_count": null,
   "id": "7a589480",
   "metadata": {},
   "outputs": [],
   "source": []
  }
 ],
 "metadata": {
  "kernelspec": {
   "display_name": "Python 3",
   "language": "python",
   "name": "python3"
  },
  "language_info": {
   "codemirror_mode": {
    "name": "ipython",
    "version": 3
   },
   "file_extension": ".py",
   "mimetype": "text/x-python",
   "name": "python",
   "nbconvert_exporter": "python",
   "pygments_lexer": "ipython3",
   "version": "3.8.8"
  }
 },
 "nbformat": 4,
 "nbformat_minor": 5
}
